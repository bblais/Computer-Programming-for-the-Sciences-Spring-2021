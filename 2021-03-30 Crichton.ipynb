{
 "cells": [
  {
   "cell_type": "code",
   "execution_count": 1,
   "id": "democratic-denmark",
   "metadata": {},
   "outputs": [
    {
     "name": "stdout",
     "output_type": "stream",
     "text": [
      "Populating the interactive namespace from numpy and matplotlib\n"
     ]
    }
   ],
   "source": [
    "%pylab inline"
   ]
  },
  {
   "cell_type": "code",
   "execution_count": 2,
   "id": "ongoing-sphere",
   "metadata": {},
   "outputs": [
    {
     "name": "stdout",
     "output_type": "stream",
     "text": [
      "Version:  0.0.7\n"
     ]
    }
   ],
   "source": [
    "from sci378 import *"
   ]
  },
  {
   "cell_type": "code",
   "execution_count": 3,
   "id": "statistical-clock",
   "metadata": {},
   "outputs": [],
   "source": [
    "from lmfit import *"
   ]
  },
  {
   "cell_type": "markdown",
   "id": "varying-tribute",
   "metadata": {},
   "source": [
    "## Crichton problem"
   ]
  },
  {
   "cell_type": "markdown",
   "id": "arranged-retrieval",
   "metadata": {},
   "source": [
    "- need temperature vs time data for all of the station (csv files in one folder)\n",
    "- need rural/urban info for each station\n",
    "- location (latitude, logitude) for each station\n",
    "\n",
    "\n",
    "- for each file do ....\n",
    "    - load data\n",
    "    - fit to a line\n",
    "    - get the slope of the line\n",
    "    - store those values\n",
    "\n",
    "\n",
    "- average of all the slopes?  (X)\n",
    "- count all positives/negatives for rural, urban -- fraction of positive for rural vs urban\n",
    "- average urban average rural, look statistical test on the average\n",
    "\n",
    "- go through all the urban stations\n",
    "    - find the closest rural station\n",
    "    - I already have the slopes - rural slope value, and an urban slope value\n",
    "    \n",
    "- plot the difference (histogram)\n",
    "- plot rural slope (y-axis) vs urban slope (x-axis)\n"
   ]
  },
  {
   "cell_type": "code",
   "execution_count": 4,
   "id": "smooth-aurora",
   "metadata": {},
   "outputs": [],
   "source": [
    "from glob import glob"
   ]
  },
  {
   "cell_type": "code",
   "execution_count": 15,
   "id": "stuck-citation",
   "metadata": {},
   "outputs": [],
   "source": [
    "time_series_folder='/Users/bblais/Desktop/time series'\n",
    "fnames=glob(time_series_folder+'/*.csv')\n",
    "fnames=fnames[:10]"
   ]
  },
  {
   "cell_type": "code",
   "execution_count": 16,
   "id": "technical-wrong",
   "metadata": {},
   "outputs": [
    {
     "data": {
      "text/plain": [
       "10"
      ]
     },
     "execution_count": 16,
     "metadata": {},
     "output_type": "execute_result"
    }
   ],
   "source": [
    "len(fnames)"
   ]
  },
  {
   "cell_type": "code",
   "execution_count": 17,
   "id": "fatty-inspiration",
   "metadata": {},
   "outputs": [
    {
     "data": {
      "text/plain": [
       "['/Users/bblais/Desktop/time series/CARACAS-LA CARLOTA.csv',\n",
       " '/Users/bblais/Desktop/time series/TAREE.csv',\n",
       " '/Users/bblais/Desktop/time series/YAXIAN.csv',\n",
       " '/Users/bblais/Desktop/time series/MOANDA.csv',\n",
       " '/Users/bblais/Desktop/time series/MINDEN.csv',\n",
       " '/Users/bblais/Desktop/time series/NORFOLK INTL AP.csv',\n",
       " '/Users/bblais/Desktop/time series/BRISBANE REGIONAL OFFI.csv',\n",
       " '/Users/bblais/Desktop/time series/CHARLOTTESVILLE 2W.csv',\n",
       " '/Users/bblais/Desktop/time series/CLEVELAND-CLE.csv',\n",
       " '/Users/bblais/Desktop/time series/ALGONA 3 W.csv']"
      ]
     },
     "execution_count": 17,
     "metadata": {},
     "output_type": "execute_result"
    }
   ],
   "source": [
    "fnames"
   ]
  },
  {
   "cell_type": "code",
   "execution_count": 18,
   "id": "twelve-positive",
   "metadata": {},
   "outputs": [
    {
     "data": {
      "text/html": [
       "<div>\n",
       "<style scoped>\n",
       "    .dataframe tbody tr th:only-of-type {\n",
       "        vertical-align: middle;\n",
       "    }\n",
       "\n",
       "    .dataframe tbody tr th {\n",
       "        vertical-align: top;\n",
       "    }\n",
       "\n",
       "    .dataframe thead th {\n",
       "        text-align: right;\n",
       "    }\n",
       "</style>\n",
       "<table border=\"1\" class=\"dataframe\">\n",
       "  <thead>\n",
       "    <tr style=\"text-align: right;\">\n",
       "      <th></th>\n",
       "      <th>ID</th>\n",
       "      <th>Station</th>\n",
       "      <th>Latitude</th>\n",
       "      <th>Longitude</th>\n",
       "      <th>Brightness</th>\n",
       "      <th>Elevation</th>\n",
       "    </tr>\n",
       "  </thead>\n",
       "  <tbody>\n",
       "    <tr>\n",
       "      <th>0</th>\n",
       "      <td>ACW00011604</td>\n",
       "      <td>SAVE</td>\n",
       "      <td>57.7667</td>\n",
       "      <td>11.8667</td>\n",
       "      <td>45.0</td>\n",
       "      <td>18.0</td>\n",
       "    </tr>\n",
       "    <tr>\n",
       "      <th>1</th>\n",
       "      <td>AE000041196</td>\n",
       "      <td>SHARJAH_INTER_AIRP</td>\n",
       "      <td>25.3330</td>\n",
       "      <td>55.5170</td>\n",
       "      <td>39.0</td>\n",
       "      <td>34.0</td>\n",
       "    </tr>\n",
       "    <tr>\n",
       "      <th>2</th>\n",
       "      <td>AEM00041184</td>\n",
       "      <td>RAS_AL_KHAIMAH_INTE</td>\n",
       "      <td>25.6170</td>\n",
       "      <td>55.9330</td>\n",
       "      <td>17.0</td>\n",
       "      <td>31.0</td>\n",
       "    </tr>\n",
       "    <tr>\n",
       "      <th>3</th>\n",
       "      <td>AEM00041194</td>\n",
       "      <td>DUBAI_INTL</td>\n",
       "      <td>25.2550</td>\n",
       "      <td>55.3640</td>\n",
       "      <td>104.0</td>\n",
       "      <td>10.4</td>\n",
       "    </tr>\n",
       "    <tr>\n",
       "      <th>4</th>\n",
       "      <td>AEM00041216</td>\n",
       "      <td>ABU_DHABI_BATEEN_AIR</td>\n",
       "      <td>24.4300</td>\n",
       "      <td>54.4700</td>\n",
       "      <td>114.0</td>\n",
       "      <td>3.0</td>\n",
       "    </tr>\n",
       "  </tbody>\n",
       "</table>\n",
       "</div>"
      ],
      "text/plain": [
       "            ID               Station  Latitude  Longitude  Brightness  \\\n",
       "0  ACW00011604                  SAVE   57.7667    11.8667        45.0   \n",
       "1  AE000041196    SHARJAH_INTER_AIRP   25.3330    55.5170        39.0   \n",
       "2  AEM00041184   RAS_AL_KHAIMAH_INTE   25.6170    55.9330        17.0   \n",
       "3  AEM00041194            DUBAI_INTL   25.2550    55.3640       104.0   \n",
       "4  AEM00041216  ABU_DHABI_BATEEN_AIR   24.4300    54.4700       114.0   \n",
       "\n",
       "   Elevation  \n",
       "0       18.0  \n",
       "1       34.0  \n",
       "2       31.0  \n",
       "3       10.4  \n",
       "4        3.0  "
      ]
     },
     "execution_count": 18,
     "metadata": {},
     "output_type": "execute_result"
    }
   ],
   "source": [
    "station_info=pd.read_excel('data/station_info.xlsx')\n",
    "station_info.head()"
   ]
  },
  {
   "cell_type": "code",
   "execution_count": 19,
   "id": "crude-intention",
   "metadata": {},
   "outputs": [],
   "source": [
    "fname=fnames[0]"
   ]
  },
  {
   "cell_type": "code",
   "execution_count": 25,
   "id": "sunrise-vulnerability",
   "metadata": {},
   "outputs": [
    {
     "data": {
      "text/html": [
       "<div>\n",
       "<style scoped>\n",
       "    .dataframe tbody tr th:only-of-type {\n",
       "        vertical-align: middle;\n",
       "    }\n",
       "\n",
       "    .dataframe tbody tr th {\n",
       "        vertical-align: top;\n",
       "    }\n",
       "\n",
       "    .dataframe thead th {\n",
       "        text-align: right;\n",
       "    }\n",
       "</style>\n",
       "<table border=\"1\" class=\"dataframe\">\n",
       "  <thead>\n",
       "    <tr style=\"text-align: right;\">\n",
       "      <th></th>\n",
       "      <th>Year</th>\n",
       "      <th>Temperature</th>\n",
       "    </tr>\n",
       "  </thead>\n",
       "  <tbody>\n",
       "    <tr>\n",
       "      <th>0</th>\n",
       "      <td>1964</td>\n",
       "      <td>22.600000</td>\n",
       "    </tr>\n",
       "    <tr>\n",
       "      <th>1</th>\n",
       "      <td>1965</td>\n",
       "      <td>22.283333</td>\n",
       "    </tr>\n",
       "    <tr>\n",
       "      <th>2</th>\n",
       "      <td>1966</td>\n",
       "      <td>22.600000</td>\n",
       "    </tr>\n",
       "    <tr>\n",
       "      <th>3</th>\n",
       "      <td>1967</td>\n",
       "      <td>21.883333</td>\n",
       "    </tr>\n",
       "    <tr>\n",
       "      <th>4</th>\n",
       "      <td>1968</td>\n",
       "      <td>22.145455</td>\n",
       "    </tr>\n",
       "    <tr>\n",
       "      <th>5</th>\n",
       "      <td>1969</td>\n",
       "      <td>22.900000</td>\n",
       "    </tr>\n",
       "    <tr>\n",
       "      <th>6</th>\n",
       "      <td>1970</td>\n",
       "      <td>22.166667</td>\n",
       "    </tr>\n",
       "    <tr>\n",
       "      <th>7</th>\n",
       "      <td>1971</td>\n",
       "      <td>22.300000</td>\n",
       "    </tr>\n",
       "    <tr>\n",
       "      <th>8</th>\n",
       "      <td>1972</td>\n",
       "      <td>22.533333</td>\n",
       "    </tr>\n",
       "    <tr>\n",
       "      <th>9</th>\n",
       "      <td>1973</td>\n",
       "      <td>22.420000</td>\n",
       "    </tr>\n",
       "    <tr>\n",
       "      <th>10</th>\n",
       "      <td>1974</td>\n",
       "      <td>22.127273</td>\n",
       "    </tr>\n",
       "    <tr>\n",
       "      <th>11</th>\n",
       "      <td>1975</td>\n",
       "      <td>21.966667</td>\n",
       "    </tr>\n",
       "    <tr>\n",
       "      <th>15</th>\n",
       "      <td>1979</td>\n",
       "      <td>23.400000</td>\n",
       "    </tr>\n",
       "    <tr>\n",
       "      <th>16</th>\n",
       "      <td>1980</td>\n",
       "      <td>22.958333</td>\n",
       "    </tr>\n",
       "    <tr>\n",
       "      <th>17</th>\n",
       "      <td>1981</td>\n",
       "      <td>22.591667</td>\n",
       "    </tr>\n",
       "    <tr>\n",
       "      <th>18</th>\n",
       "      <td>1982</td>\n",
       "      <td>22.291667</td>\n",
       "    </tr>\n",
       "    <tr>\n",
       "      <th>19</th>\n",
       "      <td>1983</td>\n",
       "      <td>22.616667</td>\n",
       "    </tr>\n",
       "    <tr>\n",
       "      <th>20</th>\n",
       "      <td>1984</td>\n",
       "      <td>22.033333</td>\n",
       "    </tr>\n",
       "    <tr>\n",
       "      <th>21</th>\n",
       "      <td>1985</td>\n",
       "      <td>20.950000</td>\n",
       "    </tr>\n",
       "    <tr>\n",
       "      <th>22</th>\n",
       "      <td>1986</td>\n",
       "      <td>21.925000</td>\n",
       "    </tr>\n",
       "    <tr>\n",
       "      <th>23</th>\n",
       "      <td>1987</td>\n",
       "      <td>23.183333</td>\n",
       "    </tr>\n",
       "    <tr>\n",
       "      <th>24</th>\n",
       "      <td>1988</td>\n",
       "      <td>21.908333</td>\n",
       "    </tr>\n",
       "    <tr>\n",
       "      <th>25</th>\n",
       "      <td>1989</td>\n",
       "      <td>21.883333</td>\n",
       "    </tr>\n",
       "    <tr>\n",
       "      <th>26</th>\n",
       "      <td>1990</td>\n",
       "      <td>22.655556</td>\n",
       "    </tr>\n",
       "    <tr>\n",
       "      <th>27</th>\n",
       "      <td>1991</td>\n",
       "      <td>22.375000</td>\n",
       "    </tr>\n",
       "    <tr>\n",
       "      <th>28</th>\n",
       "      <td>1992</td>\n",
       "      <td>22.341667</td>\n",
       "    </tr>\n",
       "    <tr>\n",
       "      <th>29</th>\n",
       "      <td>1993</td>\n",
       "      <td>22.283333</td>\n",
       "    </tr>\n",
       "    <tr>\n",
       "      <th>30</th>\n",
       "      <td>1994</td>\n",
       "      <td>22.458333</td>\n",
       "    </tr>\n",
       "    <tr>\n",
       "      <th>31</th>\n",
       "      <td>1995</td>\n",
       "      <td>22.508333</td>\n",
       "    </tr>\n",
       "    <tr>\n",
       "      <th>32</th>\n",
       "      <td>1996</td>\n",
       "      <td>22.466667</td>\n",
       "    </tr>\n",
       "    <tr>\n",
       "      <th>33</th>\n",
       "      <td>1997</td>\n",
       "      <td>21.700000</td>\n",
       "    </tr>\n",
       "    <tr>\n",
       "      <th>37</th>\n",
       "      <td>2001</td>\n",
       "      <td>23.300000</td>\n",
       "    </tr>\n",
       "    <tr>\n",
       "      <th>38</th>\n",
       "      <td>2002</td>\n",
       "      <td>22.700000</td>\n",
       "    </tr>\n",
       "    <tr>\n",
       "      <th>39</th>\n",
       "      <td>2003</td>\n",
       "      <td>22.927273</td>\n",
       "    </tr>\n",
       "    <tr>\n",
       "      <th>40</th>\n",
       "      <td>2004</td>\n",
       "      <td>22.450000</td>\n",
       "    </tr>\n",
       "    <tr>\n",
       "      <th>41</th>\n",
       "      <td>2005</td>\n",
       "      <td>22.840000</td>\n",
       "    </tr>\n",
       "    <tr>\n",
       "      <th>42</th>\n",
       "      <td>2006</td>\n",
       "      <td>22.710000</td>\n",
       "    </tr>\n",
       "  </tbody>\n",
       "</table>\n",
       "</div>"
      ],
      "text/plain": [
       "    Year  Temperature\n",
       "0   1964    22.600000\n",
       "1   1965    22.283333\n",
       "2   1966    22.600000\n",
       "3   1967    21.883333\n",
       "4   1968    22.145455\n",
       "5   1969    22.900000\n",
       "6   1970    22.166667\n",
       "7   1971    22.300000\n",
       "8   1972    22.533333\n",
       "9   1973    22.420000\n",
       "10  1974    22.127273\n",
       "11  1975    21.966667\n",
       "15  1979    23.400000\n",
       "16  1980    22.958333\n",
       "17  1981    22.591667\n",
       "18  1982    22.291667\n",
       "19  1983    22.616667\n",
       "20  1984    22.033333\n",
       "21  1985    20.950000\n",
       "22  1986    21.925000\n",
       "23  1987    23.183333\n",
       "24  1988    21.908333\n",
       "25  1989    21.883333\n",
       "26  1990    22.655556\n",
       "27  1991    22.375000\n",
       "28  1992    22.341667\n",
       "29  1993    22.283333\n",
       "30  1994    22.458333\n",
       "31  1995    22.508333\n",
       "32  1996    22.466667\n",
       "33  1997    21.700000\n",
       "37  2001    23.300000\n",
       "38  2002    22.700000\n",
       "39  2003    22.927273\n",
       "40  2004    22.450000\n",
       "41  2005    22.840000\n",
       "42  2006    22.710000"
      ]
     },
     "execution_count": 25,
     "metadata": {},
     "output_type": "execute_result"
    }
   ],
   "source": [
    "data=pd.read_csv(fname)\n",
    "data=data.dropna()\n",
    "x_data=data['Year']\n",
    "y_data=data['Temperature']\n",
    "data"
   ]
  },
  {
   "cell_type": "code",
   "execution_count": 26,
   "id": "contained-sword",
   "metadata": {},
   "outputs": [],
   "source": [
    "model=models.LinearModel()\n",
    "result=model.fit(y_data,x=x_data)"
   ]
  },
  {
   "cell_type": "code",
   "execution_count": 27,
   "id": "ignored-ozone",
   "metadata": {},
   "outputs": [
    {
     "data": {
      "text/html": [
       "<h2> Model</h2> Model(linear) <h2>Fit Statistics</h2><table><tr><td>fitting method</td><td>leastsq</td><td></td></tr><tr><td># function evals</td><td>6</td><td></td></tr><tr><td># data points</td><td>37</td><td></td></tr><tr><td># variables</td><td>2</td><td></td></tr><tr><td>chi-square</td><td> 7.82142397</td><td></td></tr><tr><td>reduced chi-square</td><td> 0.22346926</td><td></td></tr><tr><td>Akaike info crit.</td><td>-53.4998974</td><td></td></tr><tr><td>Bayesian info crit.</td><td>-50.2780616</td><td></td></tr></table><h2>Variables</h2><table><tr><th> name </th><th> value </th><th> standard error </th><th> relative error </th><th> initial value </th><th> min </th><th> max </th><th> vary </th></tr><tr><td> slope </td><td>  0.00647311 </td><td>  0.00619160 </td><td> (95.65%) </td><td> 1.0 </td><td>        -inf </td><td>         inf </td><td> True </td></tr><tr><td> intercept </td><td>  9.56980166 </td><td>  12.2875597 </td><td> (128.40%) </td><td> 0.0 </td><td>        -inf </td><td>         inf </td><td> True </td></tr></table><h2>Correlations (unreported correlations are < 0.100)</h2><table><tr><td>slope</td><td>intercept</td><td>-1.0000</td></tr></table>"
      ],
      "text/plain": [
       "<lmfit.model.ModelResult at 0x7f9351778460>"
      ]
     },
     "execution_count": 27,
     "metadata": {},
     "output_type": "execute_result"
    }
   ],
   "source": [
    "result"
   ]
  },
  {
   "cell_type": "code",
   "execution_count": 28,
   "id": "fuzzy-species",
   "metadata": {},
   "outputs": [
    {
     "data": {
      "text/plain": [
       "[<matplotlib.lines.Line2D at 0x7f935177d8b0>]"
      ]
     },
     "execution_count": 28,
     "metadata": {},
     "output_type": "execute_result"
    },
    {
     "data": {
      "image/png": "[encoded data removed]",
      "text/plain": [
       "<Figure size 864x576 with 1 Axes>"
      ]
     },
     "metadata": {
      "needs_background": "light"
     },
     "output_type": "display_data"
    }
   ],
   "source": [
    "plot(x_data,y_data,'o')\n",
    "\n",
    "x_fake=linspace(1960,2020,100)\n",
    "y_fake=result.eval(x=x_fake)\n",
    "plot(x_fake,y_fake,'-')"
   ]
  },
  {
   "cell_type": "code",
   "execution_count": 31,
   "id": "subsequent-nelson",
   "metadata": {},
   "outputs": [
    {
     "data": {
      "text/plain": [
       "0.0064731124429220355"
      ]
     },
     "execution_count": 31,
     "metadata": {},
     "output_type": "execute_result"
    }
   ],
   "source": [
    "result.params['slope'].value"
   ]
  },
  {
   "cell_type": "code",
   "execution_count": 34,
   "id": "inside-curtis",
   "metadata": {},
   "outputs": [],
   "source": [
    "def get_slope(fname,plotit=False):\n",
    "    data=pd.read_csv(fname)\n",
    "    data=data.dropna()\n",
    "    x_data=data['Year']\n",
    "    y_data=data['Temperature']\n",
    "    model=models.LinearModel()\n",
    "    result=model.fit(y_data,x=x_data)\n",
    "    \n",
    "    if plotit:\n",
    "        plot(x_data,y_data,'o')\n",
    "\n",
    "        x_fake=linspace(1960,2020,100)\n",
    "        y_fake=result.eval(x=x_fake)\n",
    "        plot(x_fake,y_fake,'-')        \n",
    "    \n",
    "    return result.params['slope'].value"
   ]
  },
  {
   "cell_type": "code",
   "execution_count": 37,
   "id": "false-advice",
   "metadata": {},
   "outputs": [
    {
     "data": {
      "text/plain": [
       "0.0064731124429220355"
      ]
     },
     "execution_count": 37,
     "metadata": {},
     "output_type": "execute_result"
    }
   ],
   "source": [
    "get_slope(fname)"
   ]
  },
  {
   "cell_type": "code",
   "execution_count": 38,
   "id": "governing-consultation",
   "metadata": {},
   "outputs": [],
   "source": [
    "def myfunction(x,a=1):\n",
    "    return x+a"
   ]
  },
  {
   "cell_type": "code",
   "execution_count": 41,
   "id": "annual-monte",
   "metadata": {},
   "outputs": [
    {
     "data": {
      "text/plain": [
       "17"
      ]
     },
     "execution_count": 41,
     "metadata": {},
     "output_type": "execute_result"
    }
   ],
   "source": [
    "myfunction(7,10)"
   ]
  },
  {
   "cell_type": "code",
   "execution_count": 44,
   "id": "breeding-clarity",
   "metadata": {},
   "outputs": [],
   "source": [
    "time_series_folder='/Users/bblais/Desktop/time series'\n",
    "fnames=glob(time_series_folder+'/*.csv')\n",
    "#fnames=fnames[:10]"
   ]
  },
  {
   "cell_type": "code",
   "execution_count": 45,
   "id": "signal-charm",
   "metadata": {},
   "outputs": [
    {
     "data": {
      "text/plain": [
       "array([ 0.00647311,  0.01124634,  0.02107082, ...,  0.07761284,\n",
       "       -0.00230143,  0.0250974 ])"
      ]
     },
     "execution_count": 45,
     "metadata": {},
     "output_type": "execute_result"
    }
   ],
   "source": [
    "S=Storage()\n",
    "\n",
    "for filename in fnames:\n",
    "    value=get_slope(filename)\n",
    "    #print(filename,value)\n",
    "    \n",
    "    S+=value,\n",
    "\n",
    "slopes=S.arrays()\n",
    "slopes"
   ]
  },
  {
   "cell_type": "code",
   "execution_count": 50,
   "id": "conservative-metallic",
   "metadata": {},
   "outputs": [],
   "source": [
    "station_names=list(station_info['Station'])"
   ]
  },
  {
   "cell_type": "code",
   "execution_count": 51,
   "id": "abstract-venice",
   "metadata": {},
   "outputs": [
    {
     "data": {
      "text/plain": [
       "27440"
      ]
     },
     "execution_count": 51,
     "metadata": {},
     "output_type": "execute_result"
    }
   ],
   "source": [
    "len(station_names)"
   ]
  },
  {
   "cell_type": "code",
   "execution_count": 52,
   "id": "automatic-adapter",
   "metadata": {},
   "outputs": [
    {
     "data": {
      "text/plain": [
       "'SAVE'"
      ]
     },
     "execution_count": 52,
     "metadata": {},
     "output_type": "execute_result"
    }
   ],
   "source": [
    "name=station_names[0]\n",
    "name"
   ]
  },
  {
   "cell_type": "code",
   "execution_count": 53,
   "id": "limited-protest",
   "metadata": {},
   "outputs": [
    {
     "data": {
      "text/plain": [
       "['/Users/bblais/Desktop/time series/SAVE.csv']"
      ]
     },
     "execution_count": 53,
     "metadata": {},
     "output_type": "execute_result"
    }
   ],
   "source": [
    "glob(time_series_folder+\"/\"+name+\".csv\")"
   ]
  },
  {
   "cell_type": "code",
   "execution_count": 58,
   "id": "brief-fellowship",
   "metadata": {},
   "outputs": [
    {
     "data": {
      "text/plain": [
       "ID            ACW00011604\n",
       "Station              SAVE\n",
       "Latitude          57.7667\n",
       "Longitude         11.8667\n",
       "Brightness           45.0\n",
       "Elevation            18.0\n",
       "Name: 0, dtype: object"
      ]
     },
     "execution_count": 58,
     "metadata": {},
     "output_type": "execute_result"
    }
   ],
   "source": [
    "station_info[station_info['Station']==name].iloc[0]  # gets the first row matching name"
   ]
  },
  {
   "cell_type": "code",
   "execution_count": 59,
   "id": "chemical-easter",
   "metadata": {},
   "outputs": [
    {
     "data": {
      "text/plain": [
       "['/Users/bblais/Desktop/time series/CARACAS-LA CARLOTA.csv',\n",
       " '/Users/bblais/Desktop/time series/TAREE.csv',\n",
       " '/Users/bblais/Desktop/time series/YAXIAN.csv',\n",
       " '/Users/bblais/Desktop/time series/MOANDA.csv',\n",
       " '/Users/bblais/Desktop/time series/MINDEN.csv',\n",
       " '/Users/bblais/Desktop/time series/NORFOLK INTL AP.csv',\n",
       " '/Users/bblais/Desktop/time series/BRISBANE REGIONAL OFFI.csv',\n",
       " '/Users/bblais/Desktop/time series/CHARLOTTESVILLE 2W.csv',\n",
       " '/Users/bblais/Desktop/time series/CLEVELAND-CLE.csv',\n",
       " '/Users/bblais/Desktop/time series/ALGONA 3 W.csv']"
      ]
     },
     "execution_count": 59,
     "metadata": {},
     "output_type": "execute_result"
    }
   ],
   "source": [
    "fnames[:10]"
   ]
  },
  {
   "cell_type": "code",
   "execution_count": 60,
   "id": "finished-rabbit",
   "metadata": {},
   "outputs": [
    {
     "data": {
      "text/plain": [
       "'/Users/bblais/Desktop/time series/CARACAS-LA CARLOTA.csv'"
      ]
     },
     "execution_count": 60,
     "metadata": {},
     "output_type": "execute_result"
    }
   ],
   "source": [
    "fname=fnames[0]\n",
    "fname"
   ]
  },
  {
   "cell_type": "code",
   "execution_count": 66,
   "id": "boolean-festival",
   "metadata": {},
   "outputs": [],
   "source": [
    "import os"
   ]
  },
  {
   "cell_type": "code",
   "execution_count": 68,
   "id": "entertaining-subsection",
   "metadata": {},
   "outputs": [
    {
     "data": {
      "text/plain": [
       "('/Users/bblais/Desktop/time series', 'CARACAS-LA CARLOTA.csv')"
      ]
     },
     "execution_count": 68,
     "metadata": {},
     "output_type": "execute_result"
    }
   ],
   "source": [
    "parts=os.path.split(fname)\n",
    "parts"
   ]
  },
  {
   "cell_type": "code",
   "execution_count": 69,
   "id": "instant-sandwich",
   "metadata": {},
   "outputs": [
    {
     "data": {
      "text/plain": [
       "'CARACAS-LA CARLOTA.csv'"
      ]
     },
     "execution_count": 69,
     "metadata": {},
     "output_type": "execute_result"
    }
   ],
   "source": [
    "parts[-1]"
   ]
  },
  {
   "cell_type": "code",
   "execution_count": 71,
   "id": "academic-moment",
   "metadata": {},
   "outputs": [
    {
     "name": "stdout",
     "output_type": "stream",
     "text": [
      "hello\there\n",
      "\n"
     ]
    }
   ],
   "source": [
    "print(\"hello\\there\\n\")"
   ]
  },
  {
   "cell_type": "code",
   "execution_count": 72,
   "id": "opposed-approval",
   "metadata": {},
   "outputs": [],
   "source": [
    "base,ext=os.path.splitext(parts[-1])"
   ]
  },
  {
   "cell_type": "code",
   "execution_count": 73,
   "id": "minus-chocolate",
   "metadata": {},
   "outputs": [
    {
     "data": {
      "text/plain": [
       "'CARACAS-LA CARLOTA'"
      ]
     },
     "execution_count": 73,
     "metadata": {},
     "output_type": "execute_result"
    }
   ],
   "source": [
    "base"
   ]
  },
  {
   "cell_type": "code",
   "execution_count": 74,
   "id": "dense-object",
   "metadata": {},
   "outputs": [
    {
     "data": {
      "text/plain": [
       "'.csv'"
      ]
     },
     "execution_count": 74,
     "metadata": {},
     "output_type": "execute_result"
    }
   ],
   "source": [
    "ext"
   ]
  },
  {
   "cell_type": "code",
   "execution_count": 75,
   "id": "unlikely-jordan",
   "metadata": {},
   "outputs": [],
   "source": [
    "def station_name_from_filename(filename):\n",
    "    parts=os.path.split(filename)\n",
    "    base,ext=os.path.splitext(parts[-1])\n",
    "    return base"
   ]
  },
  {
   "cell_type": "code",
   "execution_count": 78,
   "id": "medium-front",
   "metadata": {},
   "outputs": [
    {
     "data": {
      "text/plain": [
       "'MOANDA'"
      ]
     },
     "execution_count": 78,
     "metadata": {},
     "output_type": "execute_result"
    }
   ],
   "source": [
    "station_name_from_filename(fnames[3])"
   ]
  },
  {
   "cell_type": "code",
   "execution_count": 85,
   "id": "ready-ranking",
   "metadata": {},
   "outputs": [],
   "source": [
    "def first_row(station_name):\n",
    "    if '.csv' in station_name:\n",
    "        station_name=station_name_from_filename(station_name)\n",
    "    \n",
    "    return station_info[station_info['Station']==station_name].iloc[0]    "
   ]
  },
  {
   "cell_type": "code",
   "execution_count": 86,
   "id": "raising-quantum",
   "metadata": {},
   "outputs": [
    {
     "data": {
      "text/plain": [
       "ID            GB000004565\n",
       "Station            MOANDA\n",
       "Latitude            -1.53\n",
       "Longitude           13.27\n",
       "Brightness            0.0\n",
       "Elevation           572.0\n",
       "Name: 7521, dtype: object"
      ]
     },
     "execution_count": 86,
     "metadata": {},
     "output_type": "execute_result"
    }
   ],
   "source": [
    "first_row(station_name_from_filename(fnames[3]))"
   ]
  },
  {
   "cell_type": "code",
   "execution_count": 87,
   "id": "crazy-malaysia",
   "metadata": {},
   "outputs": [
    {
     "data": {
      "text/plain": [
       "ID            GB000004565\n",
       "Station            MOANDA\n",
       "Latitude            -1.53\n",
       "Longitude           13.27\n",
       "Brightness            0.0\n",
       "Elevation           572.0\n",
       "Name: 7521, dtype: object"
      ]
     },
     "execution_count": 87,
     "metadata": {},
     "output_type": "execute_result"
    }
   ],
   "source": [
    "first_row(fnames[3])"
   ]
  },
  {
   "cell_type": "code",
   "execution_count": 84,
   "id": "checked-crack",
   "metadata": {},
   "outputs": [
    {
     "data": {
      "text/plain": [
       "'/Users/bblais/Desktop/time series/MOANDA.csv'"
      ]
     },
     "execution_count": 84,
     "metadata": {},
     "output_type": "execute_result"
    }
   ],
   "source": [
    "fnames[3]"
   ]
  },
  {
   "cell_type": "code",
   "execution_count": null,
   "id": "vocational-bibliography",
   "metadata": {},
   "outputs": [],
   "source": []
  }
 ],
 "metadata": {
  "kernelspec": {
   "display_name": "Python 3",
   "language": "python",
   "name": "python3"
  },
  "language_info": {
   "codemirror_mode": {
    "name": "ipython",
    "version": 3
   },
   "file_extension": ".py",
   "mimetype": "text/x-python",
   "name": "python",
   "nbconvert_exporter": "python",
   "pygments_lexer": "ipython3",
   "version": "3.8.6"
  }
 },
 "nbformat": 4,
 "nbformat_minor": 5
}
