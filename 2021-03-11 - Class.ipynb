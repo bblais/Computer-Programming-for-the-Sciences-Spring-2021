{
 "cells": [
  {
   "cell_type": "code",
   "execution_count": 2,
   "id": "played-qualification",
   "metadata": {},
   "outputs": [
    {
     "name": "stdout",
     "output_type": "stream",
     "text": [
      "Populating the interactive namespace from numpy and matplotlib\n"
     ]
    }
   ],
   "source": [
    "%pylab inline"
   ]
  },
  {
   "cell_type": "code",
   "execution_count": 3,
   "id": "polished-tourism",
   "metadata": {},
   "outputs": [
    {
     "name": "stdout",
     "output_type": "stream",
     "text": [
      "Version:  0.0.7\n"
     ]
    }
   ],
   "source": [
    "from sci378 import *"
   ]
  },
  {
   "cell_type": "code",
   "execution_count": 14,
   "id": "cathedral-cambodia",
   "metadata": {},
   "outputs": [
    {
     "data": {
      "text/html": [
       "<div>\n",
       "<style scoped>\n",
       "    .dataframe tbody tr th:only-of-type {\n",
       "        vertical-align: middle;\n",
       "    }\n",
       "\n",
       "    .dataframe tbody tr th {\n",
       "        vertical-align: top;\n",
       "    }\n",
       "\n",
       "    .dataframe thead th {\n",
       "        text-align: right;\n",
       "    }\n",
       "</style>\n",
       "<table border=\"1\" class=\"dataframe\">\n",
       "  <thead>\n",
       "    <tr style=\"text-align: right;\">\n",
       "      <th></th>\n",
       "      <th>COUNTRY</th>\n",
       "      <th>Country</th>\n",
       "      <th>LANDINGS</th>\n",
       "      <th>Marine landings</th>\n",
       "      <th>SPECIES</th>\n",
       "      <th>Species</th>\n",
       "      <th>MEASURE</th>\n",
       "      <th>Measure</th>\n",
       "      <th>YEAR</th>\n",
       "      <th>Year</th>\n",
       "      <th>Unit Code</th>\n",
       "      <th>Unit</th>\n",
       "      <th>PowerCode Code</th>\n",
       "      <th>PowerCode</th>\n",
       "      <th>Reference Period Code</th>\n",
       "      <th>Reference Period</th>\n",
       "      <th>Value</th>\n",
       "      <th>Flag Codes</th>\n",
       "      <th>Flags</th>\n",
       "    </tr>\n",
       "  </thead>\n",
       "  <tbody>\n",
       "    <tr>\n",
       "      <th>0</th>\n",
       "      <td>JPN</td>\n",
       "      <td>Japan</td>\n",
       "      <td>LAND_TOTAL</td>\n",
       "      <td>TOTAL LANDINGS</td>\n",
       "      <td>BAJ</td>\n",
       "      <td>Japanese seabass [Lateolabrax japonicus]</td>\n",
       "      <td>TON</td>\n",
       "      <td>Tonne</td>\n",
       "      <td>2000</td>\n",
       "      <td>2000</td>\n",
       "      <td>TONNE</td>\n",
       "      <td>Tonnes</td>\n",
       "      <td>0</td>\n",
       "      <td>Units</td>\n",
       "      <td>NaN</td>\n",
       "      <td>NaN</td>\n",
       "      <td>9337.0</td>\n",
       "      <td>NaN</td>\n",
       "      <td>NaN</td>\n",
       "    </tr>\n",
       "    <tr>\n",
       "      <th>1</th>\n",
       "      <td>JPN</td>\n",
       "      <td>Japan</td>\n",
       "      <td>LAND_TOTAL</td>\n",
       "      <td>TOTAL LANDINGS</td>\n",
       "      <td>BAJ</td>\n",
       "      <td>Japanese seabass [Lateolabrax japonicus]</td>\n",
       "      <td>TON</td>\n",
       "      <td>Tonne</td>\n",
       "      <td>2001</td>\n",
       "      <td>2001</td>\n",
       "      <td>TONNE</td>\n",
       "      <td>Tonnes</td>\n",
       "      <td>0</td>\n",
       "      <td>Units</td>\n",
       "      <td>NaN</td>\n",
       "      <td>NaN</td>\n",
       "      <td>10690.0</td>\n",
       "      <td>NaN</td>\n",
       "      <td>NaN</td>\n",
       "    </tr>\n",
       "    <tr>\n",
       "      <th>2</th>\n",
       "      <td>JPN</td>\n",
       "      <td>Japan</td>\n",
       "      <td>LAND_TOTAL</td>\n",
       "      <td>TOTAL LANDINGS</td>\n",
       "      <td>BAJ</td>\n",
       "      <td>Japanese seabass [Lateolabrax japonicus]</td>\n",
       "      <td>TON</td>\n",
       "      <td>Tonne</td>\n",
       "      <td>2002</td>\n",
       "      <td>2002</td>\n",
       "      <td>TONNE</td>\n",
       "      <td>Tonnes</td>\n",
       "      <td>0</td>\n",
       "      <td>Units</td>\n",
       "      <td>NaN</td>\n",
       "      <td>NaN</td>\n",
       "      <td>10737.0</td>\n",
       "      <td>NaN</td>\n",
       "      <td>NaN</td>\n",
       "    </tr>\n",
       "    <tr>\n",
       "      <th>3</th>\n",
       "      <td>JPN</td>\n",
       "      <td>Japan</td>\n",
       "      <td>LAND_TOTAL</td>\n",
       "      <td>TOTAL LANDINGS</td>\n",
       "      <td>BAJ</td>\n",
       "      <td>Japanese seabass [Lateolabrax japonicus]</td>\n",
       "      <td>TON</td>\n",
       "      <td>Tonne</td>\n",
       "      <td>2003</td>\n",
       "      <td>2003</td>\n",
       "      <td>TONNE</td>\n",
       "      <td>Tonnes</td>\n",
       "      <td>0</td>\n",
       "      <td>Units</td>\n",
       "      <td>NaN</td>\n",
       "      <td>NaN</td>\n",
       "      <td>10136.0</td>\n",
       "      <td>NaN</td>\n",
       "      <td>NaN</td>\n",
       "    </tr>\n",
       "    <tr>\n",
       "      <th>4</th>\n",
       "      <td>JPN</td>\n",
       "      <td>Japan</td>\n",
       "      <td>LAND_TOTAL</td>\n",
       "      <td>TOTAL LANDINGS</td>\n",
       "      <td>BAJ</td>\n",
       "      <td>Japanese seabass [Lateolabrax japonicus]</td>\n",
       "      <td>TON</td>\n",
       "      <td>Tonne</td>\n",
       "      <td>2004</td>\n",
       "      <td>2004</td>\n",
       "      <td>TONNE</td>\n",
       "      <td>Tonnes</td>\n",
       "      <td>0</td>\n",
       "      <td>Units</td>\n",
       "      <td>NaN</td>\n",
       "      <td>NaN</td>\n",
       "      <td>10052.0</td>\n",
       "      <td>NaN</td>\n",
       "      <td>NaN</td>\n",
       "    </tr>\n",
       "  </tbody>\n",
       "</table>\n",
       "</div>"
      ],
      "text/plain": [
       "  COUNTRY Country    LANDINGS Marine landings SPECIES  \\\n",
       "0     JPN   Japan  LAND_TOTAL  TOTAL LANDINGS     BAJ   \n",
       "1     JPN   Japan  LAND_TOTAL  TOTAL LANDINGS     BAJ   \n",
       "2     JPN   Japan  LAND_TOTAL  TOTAL LANDINGS     BAJ   \n",
       "3     JPN   Japan  LAND_TOTAL  TOTAL LANDINGS     BAJ   \n",
       "4     JPN   Japan  LAND_TOTAL  TOTAL LANDINGS     BAJ   \n",
       "\n",
       "                                    Species MEASURE Measure  YEAR  Year  \\\n",
       "0  Japanese seabass [Lateolabrax japonicus]     TON   Tonne  2000  2000   \n",
       "1  Japanese seabass [Lateolabrax japonicus]     TON   Tonne  2001  2001   \n",
       "2  Japanese seabass [Lateolabrax japonicus]     TON   Tonne  2002  2002   \n",
       "3  Japanese seabass [Lateolabrax japonicus]     TON   Tonne  2003  2003   \n",
       "4  Japanese seabass [Lateolabrax japonicus]     TON   Tonne  2004  2004   \n",
       "\n",
       "  Unit Code    Unit  PowerCode Code PowerCode  Reference Period Code  \\\n",
       "0     TONNE  Tonnes               0     Units                    NaN   \n",
       "1     TONNE  Tonnes               0     Units                    NaN   \n",
       "2     TONNE  Tonnes               0     Units                    NaN   \n",
       "3     TONNE  Tonnes               0     Units                    NaN   \n",
       "4     TONNE  Tonnes               0     Units                    NaN   \n",
       "\n",
       "   Reference Period    Value Flag Codes Flags  \n",
       "0               NaN   9337.0        NaN   NaN  \n",
       "1               NaN  10690.0        NaN   NaN  \n",
       "2               NaN  10737.0        NaN   NaN  \n",
       "3               NaN  10136.0        NaN   NaN  \n",
       "4               NaN  10052.0        NaN   NaN  "
      ]
     },
     "execution_count": 14,
     "metadata": {},
     "output_type": "execute_result"
    }
   ],
   "source": [
    "data=pd.read_csv('data/FISH_LAND_11032021193638490.csv')\n",
    "\n",
    "data=data[(data['SPECIES']=='BAJ') & (data['Marine landings']=='TOTAL LANDINGS') & (data['MEASURE']=='TON')]\n",
    "data.head()"
   ]
  },
  {
   "cell_type": "code",
   "execution_count": 15,
   "id": "intermediate-hierarchy",
   "metadata": {},
   "outputs": [
    {
     "data": {
      "text/plain": [
       "[<matplotlib.lines.Line2D at 0x7f83d0b8a820>]"
      ]
     },
     "execution_count": 15,
     "metadata": {},
     "output_type": "execute_result"
    },
    {
     "data": {
      "image/png": "[encoded data removed]",
      "text/plain": [
       "<Figure size 864x576 with 1 Axes>"
      ]
     },
     "metadata": {
      "needs_background": "light"
     },
     "output_type": "display_data"
    }
   ],
   "source": [
    "x=array(data['YEAR'])\n",
    "y=array(data['Value'])\n",
    "plot(x,y,'o')"
   ]
  },
  {
   "cell_type": "code",
   "execution_count": null,
   "id": "handy-society",
   "metadata": {},
   "outputs": [],
   "source": []
  }
 ],
 "metadata": {
  "kernelspec": {
   "display_name": "Python 3",
   "language": "python",
   "name": "python3"
  },
  "language_info": {
   "codemirror_mode": {
    "name": "ipython",
    "version": 3
   },
   "file_extension": ".py",
   "mimetype": "text/x-python",
   "name": "python",
   "nbconvert_exporter": "python",
   "pygments_lexer": "ipython3",
   "version": "3.8.6"
  }
 },
 "nbformat": 4,
 "nbformat_minor": 5
}
