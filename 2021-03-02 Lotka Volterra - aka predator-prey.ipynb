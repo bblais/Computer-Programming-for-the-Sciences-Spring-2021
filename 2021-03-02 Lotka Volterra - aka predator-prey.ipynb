{
 "cells": [
  {
   "cell_type": "code",
   "execution_count": 1,
   "id": "sought-stable",
   "metadata": {},
   "outputs": [
    {
     "name": "stdout",
     "output_type": "stream",
     "text": [
      "Populating the interactive namespace from numpy and matplotlib\n"
     ]
    }
   ],
   "source": [
    "%pylab inline"
   ]
  },
  {
   "cell_type": "code",
   "execution_count": 2,
   "id": "informed-contemporary",
   "metadata": {},
   "outputs": [
    {
     "name": "stdout",
     "output_type": "stream",
     "text": [
      "pyndamics3  version  0.0.3\n"
     ]
    }
   ],
   "source": [
    "from pyndamics3 import Simulation"
   ]
  },
  {
   "attachments": {
    "dd39e668-e62c-4bbf-af0d-b7636de2b881.png": {
     "image/png": "[encoded data removed]"
    }
   },
   "cell_type": "markdown",
   "id": "oriented-blake",
   "metadata": {},
   "source": [
    "https://en.wikipedia.org/wiki/Lotka%E2%80%93Volterra_equations\n",
    "\n",
    "\n",
    "![image.png](attachment:dd39e668-e62c-4bbf-af0d-b7636de2b881.png)"
   ]
  },
  {
   "cell_type": "markdown",
   "id": "suffering-egyptian",
   "metadata": {},
   "source": [
    "## Some of the math"
   ]
  },
  {
   "cell_type": "markdown",
   "id": "native-liverpool",
   "metadata": {},
   "source": [
    "$$\n",
    "\\frac{dx}{dt} = \\alpha x - \\beta xy\n",
    "$$\n",
    "\n",
    "$$\n",
    "\\frac{dy}{dt} = \\delta xy - \\gamma y\n",
    "$$"
   ]
  },
  {
   "cell_type": "markdown",
   "id": "numerical-lemon",
   "metadata": {},
   "source": [
    "If the $\\beta$ is zero,\n",
    "\n",
    "$$\n",
    "\\frac{dx}{dt} = \\alpha x\n",
    "$$\n"
   ]
  },
  {
   "cell_type": "markdown",
   "id": "neural-savage",
   "metadata": {},
   "source": [
    "this is the same equation that we've seen for exponential population growth.  if $\\delta$ is zero, then \n",
    "\n",
    "$$\n",
    "\\frac{dy}{dt} =  - \\gamma y\n",
    "$$"
   ]
  },
  {
   "cell_type": "markdown",
   "id": "frequent-geometry",
   "metadata": {},
   "source": [
    "this is the same as exponential population growth with a *negative* growth factor -- population decay."
   ]
  },
  {
   "cell_type": "markdown",
   "id": "tamil-alloy",
   "metadata": {},
   "source": [
    "in a system, when you have a product term like $-\\beta x y$ or $\\delta x y$, this represents an *interaction* between these two variables.  If $x$ and $y$ are populations, then an interaction is an actual interaction between populations."
   ]
  },
  {
   "cell_type": "markdown",
   "id": "hazardous-demonstration",
   "metadata": {},
   "source": [
    "- $x$ prey\n",
    "- $y$ predator"
   ]
  },
  {
   "cell_type": "markdown",
   "id": "ambient-saturday",
   "metadata": {},
   "source": [
    "### Fixed points\n",
    "\n",
    "when the variable is not changing or, in other words, when $dv/dt=0$"
   ]
  },
  {
   "cell_type": "markdown",
   "id": "optical-richards",
   "metadata": {},
   "source": [
    "### example with logistic growth\n",
    "\n",
    "$$\n",
    "\\frac{dx}{dt}= ax (1-x/K)\n",
    "$$\n",
    "\n"
   ]
  },
  {
   "cell_type": "markdown",
   "id": "induced-award",
   "metadata": {},
   "source": [
    "$$\n",
    "\\frac{dx}{dt}=0?\n",
    "$$"
   ]
  },
  {
   "cell_type": "markdown",
   "id": "characteristic-cincinnati",
   "metadata": {},
   "source": [
    "either, $ax=0$ or $(1-x/K)=0$."
   ]
  },
  {
   "cell_type": "markdown",
   "id": "commercial-coast",
   "metadata": {},
   "source": [
    "this leads immediately, either\n",
    "\n",
    "\n",
    "$$\n",
    "x=0 \\text{ (unstable)}\n",
    "$$\n",
    "\n",
    "$$\n",
    "x=K \\text{ (stable)}\n",
    "$$\n"
   ]
  },
  {
   "cell_type": "code",
   "execution_count": 9,
   "id": "employed-snake",
   "metadata": {},
   "outputs": [
    {
     "data": {
      "image/png": "[encoded data removed]",
      "text/plain": [
       "<Figure size 864x576 with 1 Axes>"
      ]
     },
     "metadata": {
      "needs_background": "light"
     },
     "output_type": "display_data"
    },
    {
     "data": {
      "text/plain": [
       "<Figure size 864x576 with 0 Axes>"
      ]
     },
     "metadata": {},
     "output_type": "display_data"
    }
   ],
   "source": [
    "sim=Simulation()\n",
    "sim.add(\"x'=a*x*(1-x/K)\",29.9,plot=True)\n",
    "sim.params(a=2,K=30)\n",
    "sim.run(0,50)"
   ]
  },
  {
   "cell_type": "markdown",
   "id": "collective-dining",
   "metadata": {},
   "source": [
    "## Fixed points for predator prey"
   ]
  },
  {
   "cell_type": "markdown",
   "id": "perceived-employment",
   "metadata": {},
   "source": [
    "$$\n",
    "\\frac{dx}{dt} = \\alpha x - \\beta xy\n",
    "$$\n",
    "\n",
    "$$\n",
    "\\frac{dy}{dt} = \\delta xy - \\gamma y\n",
    "$$"
   ]
  },
  {
   "cell_type": "markdown",
   "id": "every-disposal",
   "metadata": {},
   "source": [
    "$$\n",
    "\\frac{dx}{dt} = 0\n",
    "$$\n",
    "\n",
    "$$\n",
    "\\frac{dy}{dt} = 0\n",
    "$$"
   ]
  },
  {
   "cell_type": "markdown",
   "id": "corresponding-found",
   "metadata": {},
   "source": [
    "$$\n",
    "\\alpha x - \\beta xy = 0\n",
    "$$\n",
    "\n",
    "$$\n",
    "\\delta xy - \\gamma y =0\n",
    "$$"
   ]
  },
  {
   "cell_type": "markdown",
   "id": "touched-kruger",
   "metadata": {},
   "source": [
    "$$\n",
    "x \\cdot (\\alpha  - \\beta y) = 0\n",
    "$$\n",
    "\n",
    "$$\n",
    "y \\cdot (\\delta x - \\gamma ) =0\n",
    "$$"
   ]
  },
  {
   "cell_type": "code",
   "execution_count": null,
   "id": "small-pizza",
   "metadata": {},
   "outputs": [],
   "source": [
    "sim=Simulation()\n",
    "sim.add(\"x'=\",1,plot=True)\n",
    "sim.add(\"y'=\",1,plot=True)\n",
    "sim.params(α=.1,β=.3,δ=.4,γ=.5)\n",
    "sim.run(0,50)"
   ]
  }
 ],
 "metadata": {
  "kernelspec": {
   "display_name": "Python 3",
   "language": "python",
   "name": "python3"
  },
  "language_info": {
   "codemirror_mode": {
    "name": "ipython",
    "version": 3
   },
   "file_extension": ".py",
   "mimetype": "text/x-python",
   "name": "python",
   "nbconvert_exporter": "python",
   "pygments_lexer": "ipython3",
   "version": "3.8.6"
  }
 },
 "nbformat": 4,
 "nbformat_minor": 5
}
