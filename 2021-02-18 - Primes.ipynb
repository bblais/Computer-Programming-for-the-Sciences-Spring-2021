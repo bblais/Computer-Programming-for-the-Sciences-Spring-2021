{
 "cells": [
  {
   "cell_type": "code",
   "execution_count": 1,
   "id": "critical-possibility",
   "metadata": {},
   "outputs": [
    {
     "name": "stdout",
     "output_type": "stream",
     "text": [
      "Populating the interactive namespace from numpy and matplotlib\n"
     ]
    }
   ],
   "source": [
    "%pylab inline"
   ]
  },
  {
   "cell_type": "code",
   "execution_count": 2,
   "id": "existing-lodge",
   "metadata": {},
   "outputs": [
    {
     "name": "stdout",
     "output_type": "stream",
     "text": [
      "Version:  0.0.4\n"
     ]
    }
   ],
   "source": [
    "from sci378 import *"
   ]
  },
  {
   "cell_type": "markdown",
   "id": "continued-jackson",
   "metadata": {},
   "source": [
    "## test if N is a prime number\n",
    "\n",
    "- if N % 5 == 0 then N is divisible by 5\n",
    "\n",
    "\n",
    "\n",
    "- go through all the numbers from 2 up to N-1\n",
    "    - for each of these numbers, check if N % number ==0\n",
    "    - if that's true --> not prime (end the search)\n",
    "    - if that's false --> may be prime, keep looking\n",
    "\n",
    "- I've gone through all the numbers, never got the \"end the search\" --> prime"
   ]
  },
  {
   "cell_type": "code",
   "execution_count": 9,
   "id": "intimate-photograph",
   "metadata": {},
   "outputs": [
    {
     "name": "stdout",
     "output_type": "stream",
     "text": [
      "prime!\n"
     ]
    }
   ],
   "source": [
    "N=17\n",
    "\n",
    "found=False\n",
    "for number in range(2,N):\n",
    "    \n",
    "    if N % number ==0:\n",
    "        print(number,\"not prime!\")\n",
    "        found=True\n",
    "        break\n",
    "    else:\n",
    "        pass\n",
    "    \n",
    "if not found:\n",
    "    print(\"prime!\")"
   ]
  },
  {
   "cell_type": "code",
   "execution_count": 28,
   "id": "skilled-pillow",
   "metadata": {},
   "outputs": [],
   "source": [
    "def isdivisible(N,number):\n",
    "    return N % number ==0\n",
    "\n",
    "def prime(N):\n",
    "\n",
    "    for number in range(2,N):\n",
    "        if isdivisible(N,number):\n",
    "            return False\n",
    "        else:\n",
    "            pass\n",
    "        \n",
    "    return True"
   ]
  },
  {
   "cell_type": "code",
   "execution_count": 30,
   "id": "gothic-blowing",
   "metadata": {},
   "outputs": [
    {
     "data": {
      "text/plain": [
       "False"
      ]
     },
     "execution_count": 30,
     "metadata": {},
     "output_type": "execute_result"
    }
   ],
   "source": [
    "prime(6)"
   ]
  },
  {
   "cell_type": "code",
   "execution_count": 23,
   "id": "analyzed-brush",
   "metadata": {},
   "outputs": [
    {
     "name": "stdout",
     "output_type": "stream",
     "text": [
      "7927\n"
     ]
    }
   ],
   "source": [
    "count=0\n",
    "\n",
    "for number in range(2,100000):\n",
    "    \n",
    "    if prime(number):\n",
    "        #print(number)\n",
    "        count=count+1\n",
    "        \n",
    "    if count==1001:\n",
    "        break\n",
    "        \n",
    "print(number)"
   ]
  },
  {
   "cell_type": "code",
   "execution_count": 27,
   "id": "legislative-authentication",
   "metadata": {},
   "outputs": [
    {
     "data": {
      "text/plain": [
       "True"
      ]
     },
     "execution_count": 27,
     "metadata": {},
     "output_type": "execute_result"
    }
   ],
   "source": [
    "10%2==0"
   ]
  },
  {
   "cell_type": "code",
   "execution_count": null,
   "id": "other-applicant",
   "metadata": {},
   "outputs": [],
   "source": []
  }
 ],
 "metadata": {
  "kernelspec": {
   "display_name": "Python 3",
   "language": "python",
   "name": "python3"
  },
  "language_info": {
   "codemirror_mode": {
    "name": "ipython",
    "version": 3
   },
   "file_extension": ".py",
   "mimetype": "text/x-python",
   "name": "python",
   "nbconvert_exporter": "python",
   "pygments_lexer": "ipython3",
   "version": "3.8.6"
  }
 },
 "nbformat": 4,
 "nbformat_minor": 5
}
