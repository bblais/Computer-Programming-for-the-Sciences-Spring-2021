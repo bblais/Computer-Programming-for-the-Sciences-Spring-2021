{
 "cells": [
  {
   "cell_type": "code",
   "execution_count": 1,
   "id": "following-rugby",
   "metadata": {},
   "outputs": [
    {
     "name": "stdout",
     "output_type": "stream",
     "text": [
      "Populating the interactive namespace from numpy and matplotlib\n"
     ]
    }
   ],
   "source": [
    "%pylab inline"
   ]
  },
  {
   "cell_type": "code",
   "execution_count": 3,
   "id": "broadband-vessel",
   "metadata": {},
   "outputs": [],
   "source": [
    "from lmfit import *"
   ]
  },
  {
   "cell_type": "markdown",
   "id": "classical-object",
   "metadata": {},
   "source": [
    "See: https://lmfit.github.io/lmfit-py/builtin_models.html  for more examples"
   ]
  },
  {
   "cell_type": "code",
   "execution_count": 14,
   "id": "olive-authentication",
   "metadata": {},
   "outputs": [],
   "source": [
    "x_data,y_data=(array([-10.        ,  -8.94736842,  -7.89473684,  -6.84210526,\n",
    "         -5.78947368,  -4.73684211,  -3.68421053,  -2.63157895,\n",
    "         -1.57894737,  -0.52631579,   0.52631579,   1.57894737,\n",
    "          2.63157895,   3.68421053,   4.73684211,   5.78947368,\n",
    "          6.84210526,   7.89473684,   8.94736842,  10.        ]),\n",
    " array([ 84.5439605 ,  79.96429095,  53.29446178,  15.49595419,\n",
    "         55.59294258,  57.74976334, -17.47795207,  19.03107704,\n",
    "        -31.19976545, -10.54910001,  17.56865009,   5.42434731,\n",
    "         -9.60203555,  21.4654494 ,  44.94972133,   6.80172884,\n",
    "         62.75223289,  58.16212626, 111.04251023,  83.52494712]))"
   ]
  },
  {
   "cell_type": "code",
   "execution_count": 15,
   "id": "surgical-generation",
   "metadata": {},
   "outputs": [
    {
     "data": {
      "text/plain": [
       "[<matplotlib.lines.Line2D at 0x7f9c087054c0>]"
      ]
     },
     "execution_count": 15,
     "metadata": {},
     "output_type": "execute_result"
    },
    {
     "data": {
      "image/png": "[encoded data removed]",
      "text/plain": [
       "<Figure size 432x288 with 1 Axes>"
      ]
     },
     "metadata": {
      "needs_background": "light"
     },
     "output_type": "display_data"
    }
   ],
   "source": [
    "plot(x_data,y_data,'o')"
   ]
  },
  {
   "cell_type": "markdown",
   "id": "tribal-header",
   "metadata": {},
   "source": [
    "## Step 1 - define the function"
   ]
  },
  {
   "cell_type": "code",
   "execution_count": 4,
   "id": "conceptual-desert",
   "metadata": {},
   "outputs": [],
   "source": [
    "def quad(x,a=1,b=1,c=1):\n",
    "    return a*x**2 + b*x + c"
   ]
  },
  {
   "cell_type": "markdown",
   "id": "religious-focus",
   "metadata": {},
   "source": [
    "## Step 2 - define the model and construct the parameter list"
   ]
  },
  {
   "cell_type": "code",
   "execution_count": 16,
   "id": "acknowledged-princeton",
   "metadata": {},
   "outputs": [],
   "source": [
    "qmodel=Model(quad)"
   ]
  },
  {
   "cell_type": "code",
   "execution_count": 17,
   "id": "mechanical-impact",
   "metadata": {},
   "outputs": [
    {
     "data": {
      "text/plain": [
       "['a', 'b', 'c']"
      ]
     },
     "execution_count": 17,
     "metadata": {},
     "output_type": "execute_result"
    }
   ],
   "source": [
    "qmodel.param_names"
   ]
  },
  {
   "cell_type": "code",
   "execution_count": 18,
   "id": "reported-wilson",
   "metadata": {},
   "outputs": [
    {
     "data": {
      "text/html": [
       "<table><tr><th> name </th><th> value </th><th> initial value </th><th> min </th><th> max </th><th> vary </th></tr><tr><td> a </td><td>  1.00000000 </td><td> None </td><td>        -inf </td><td>         inf </td><td> True </td></tr><tr><td> b </td><td>  1.00000000 </td><td> None </td><td>        -inf </td><td>         inf </td><td> True </td></tr><tr><td> c </td><td>  1.00000000 </td><td> None </td><td>        -inf </td><td>         inf </td><td> True </td></tr></table>"
      ],
      "text/plain": [
       "Parameters([('a', <Parameter 'a', value=1, bounds=[-inf:inf]>),\n",
       "            ('b', <Parameter 'b', value=1, bounds=[-inf:inf]>),\n",
       "            ('c', <Parameter 'c', value=1, bounds=[-inf:inf]>)])"
      ]
     },
     "execution_count": 18,
     "metadata": {},
     "output_type": "execute_result"
    }
   ],
   "source": [
    "params=qmodel.make_params()\n",
    "params"
   ]
  },
  {
   "cell_type": "markdown",
   "id": "focal-peter",
   "metadata": {},
   "source": [
    "## Step 3 - modify the parameter list (min, max, etc...) as needed"
   ]
  },
  {
   "cell_type": "code",
   "execution_count": 19,
   "id": "verified-employer",
   "metadata": {},
   "outputs": [],
   "source": [
    "params['a']=Parameter(\"a\",min=0,value=0.5)"
   ]
  },
  {
   "cell_type": "markdown",
   "id": "awful-radiation",
   "metadata": {},
   "source": [
    "## Step 4 - do the fit, look at the values, etc..."
   ]
  },
  {
   "cell_type": "code",
   "execution_count": 21,
   "id": "silent-october",
   "metadata": {},
   "outputs": [],
   "source": [
    "result = qmodel.fit(y_data, params, x=x_data)"
   ]
  },
  {
   "cell_type": "code",
   "execution_count": 22,
   "id": "directed-bailey",
   "metadata": {},
   "outputs": [
    {
     "data": {
      "text/html": [
       "<h2> Model</h2> Model(quad) <h2>Fit Statistics</h2><table><tr><td>fitting method</td><td>leastsq</td><td></td></tr><tr><td># function evals</td><td>17</td><td></td></tr><tr><td># data points</td><td>20</td><td></td></tr><tr><td># variables</td><td>3</td><td></td></tr><tr><td>chi-square</td><td> 8465.97342</td><td></td></tr><tr><td>reduced chi-square</td><td> 497.998437</td><td></td></tr><tr><td>Akaike info crit.</td><td> 126.961560</td><td></td></tr><tr><td>Bayesian info crit.</td><td> 129.948757</td><td></td></tr></table><h2>Variables</h2><table><tr><th> name </th><th> value </th><th> standard error </th><th> relative error </th><th> initial value </th><th> min </th><th> max </th><th> vary </th></tr><tr><td> a </td><td>  0.97692293 </td><td>  0.15200161 </td><td> (15.56%) </td><td> 0.5 </td><td>  0.00000000 </td><td>         inf </td><td> True </td></tr><tr><td> b </td><td>  0.57988541 </td><td>  0.82210404 </td><td> (141.77%) </td><td> 1 </td><td>        -inf </td><td>         inf </td><td> True </td></tr><tr><td> c </td><td> -0.56513172 </td><td>  7.50070567 </td><td> (1327.25%) </td><td> 1 </td><td>        -inf </td><td>         inf </td><td> True </td></tr></table><h2>Correlations (unreported correlations are < 0.100)</h2><table><tr><td>a</td><td>c</td><td>-0.7466</td></tr></table>"
      ],
      "text/plain": [
       "<lmfit.model.ModelResult at 0x7f9c28648af0>"
      ]
     },
     "execution_count": 22,
     "metadata": {},
     "output_type": "execute_result"
    }
   ],
   "source": [
    "result"
   ]
  },
  {
   "cell_type": "code",
   "execution_count": 26,
   "id": "understanding-tracker",
   "metadata": {},
   "outputs": [
    {
     "data": {
      "text/plain": [
       "[<matplotlib.lines.Line2D at 0x7f9bd8631af0>]"
      ]
     },
     "execution_count": 26,
     "metadata": {},
     "output_type": "execute_result"
    },
    {
     "data": {
      "image/png": "[encoded data removed]",
      "text/plain": [
       "<Figure size 432x288 with 1 Axes>"
      ]
     },
     "metadata": {
      "needs_background": "light"
     },
     "output_type": "display_data"
    }
   ],
   "source": [
    "plot(x_data,y_data,'o')\n",
    "\n",
    "x_fake=linspace(-12,12,100)\n",
    "y_fake=result.eval(x=x_fake)\n",
    "plot(x_fake,y_fake,'-')"
   ]
  },
  {
   "cell_type": "markdown",
   "id": "joint-father",
   "metadata": {},
   "source": [
    "## Turns out lmfit already has this function..."
   ]
  },
  {
   "cell_type": "code",
   "execution_count": 27,
   "id": "available-isaac",
   "metadata": {},
   "outputs": [],
   "source": [
    "qmodel=models.QuadraticModel()"
   ]
  },
  {
   "cell_type": "code",
   "execution_count": 28,
   "id": "copyrighted-interference",
   "metadata": {},
   "outputs": [
    {
     "data": {
      "text/plain": [
       "['a', 'b', 'c']"
      ]
     },
     "execution_count": 28,
     "metadata": {},
     "output_type": "execute_result"
    }
   ],
   "source": [
    "qmodel.param_names"
   ]
  },
  {
   "cell_type": "code",
   "execution_count": 29,
   "id": "signed-seeking",
   "metadata": {},
   "outputs": [],
   "source": [
    "result = qmodel.fit(y_data, params, x=x_data)"
   ]
  },
  {
   "cell_type": "code",
   "execution_count": 30,
   "id": "successful-genre",
   "metadata": {},
   "outputs": [
    {
     "data": {
      "text/plain": [
       "[<matplotlib.lines.Line2D at 0x7f9be9662970>]"
      ]
     },
     "execution_count": 30,
     "metadata": {},
     "output_type": "execute_result"
    },
    {
     "data": {
      "image/png": "[encoded data removed]",
      "text/plain": [
       "<Figure size 432x288 with 1 Axes>"
      ]
     },
     "metadata": {
      "needs_background": "light"
     },
     "output_type": "display_data"
    }
   ],
   "source": [
    "plot(x_data,y_data,'o')\n",
    "\n",
    "x_fake=linspace(-12,12,100)\n",
    "y_fake=result.eval(x=x_fake)\n",
    "plot(x_fake,y_fake,'-')"
   ]
  },
  {
   "cell_type": "markdown",
   "id": "reported-throw",
   "metadata": {},
   "source": [
    "# Another Data Set"
   ]
  },
  {
   "cell_type": "code",
   "execution_count": 57,
   "id": "practical-monkey",
   "metadata": {},
   "outputs": [],
   "source": [
    "x_data,y_data=(array([0.        , 0.12820513, 0.25641026, 0.38461538, 0.51282051,\n",
    "        0.64102564, 0.76923077, 0.8974359 , 1.02564103, 1.15384615,\n",
    "        1.28205128, 1.41025641, 1.53846154, 1.66666667, 1.79487179,\n",
    "        1.92307692, 2.05128205, 2.17948718, 2.30769231, 2.43589744,\n",
    "        2.56410256, 2.69230769, 2.82051282, 2.94871795, 3.07692308,\n",
    "        3.20512821, 3.33333333, 3.46153846, 3.58974359, 3.71794872,\n",
    "        3.84615385, 3.97435897, 4.1025641 , 4.23076923, 4.35897436,\n",
    "        4.48717949, 4.61538462, 4.74358974, 4.87179487, 5.        ]),\n",
    " array([ 1.0428932 ,  0.89749902,  0.75670392,  0.64111299,  0.55718173,\n",
    "         0.52405064,  0.56088843,  0.5490807 ,  0.42480484,  0.47428914,\n",
    "         0.2934649 ,  0.34352106,  0.33185889,  0.27993667,  0.26003406,\n",
    "         0.27138304,  0.39834035,  0.28156451,  0.2572975 ,  0.27710445,\n",
    "         0.15969731,  0.22588548,  0.18106594,  0.15347512,  0.25385423,\n",
    "         0.20835157,  0.1964213 ,  0.09014651,  0.11874164,  0.14871592,\n",
    "         0.06117995,  0.19194054,  0.05546755,  0.10819372,  0.13157402,\n",
    "         0.16435838,  0.04113969, -0.03053311,  0.0710629 ,  0.08495973]))"
   ]
  },
  {
   "cell_type": "code",
   "execution_count": 93,
   "id": "sweet-comparison",
   "metadata": {},
   "outputs": [
    {
     "data": {
      "text/plain": [
       "[<matplotlib.lines.Line2D at 0x7f9c18c0ca00>]"
      ]
     },
     "execution_count": 93,
     "metadata": {},
     "output_type": "execute_result"
    },
    {
     "data": {
      "image/png": "[encoded data removed]",
      "text/plain": [
       "<Figure size 432x288 with 1 Axes>"
      ]
     },
     "metadata": {
      "needs_background": "light"
     },
     "output_type": "display_data"
    }
   ],
   "source": [
    "plot(x_data,y_data,'o')"
   ]
  },
  {
   "cell_type": "markdown",
   "id": "political-newfoundland",
   "metadata": {},
   "source": [
    "## Step 1 - define the function\n",
    "\n",
    "## Step 2 - define the model and construct the parameter list\n",
    "\n",
    "## Step 3 - modify the parameter list (min, max, etc...) as needed\n",
    "\n",
    "## Step 4 - do the fit, look at the values, etc..."
   ]
  },
  {
   "cell_type": "code",
   "execution_count": 62,
   "id": "developing-cross",
   "metadata": {},
   "outputs": [],
   "source": [
    "def exponential(x,A=1,τ=0.1):\n",
    "    return A*exp(-x/τ)\n",
    "\n",
    "def double_exponential(x,A1=.5,τ1=0.5,A2=.5,τ2=3):\n",
    "    return exponential(x,A1,τ1)+exponential(x,A2,τ2)"
   ]
  },
  {
   "cell_type": "code",
   "execution_count": null,
   "id": "wrapped-justice",
   "metadata": {},
   "outputs": [],
   "source": []
  },
  {
   "cell_type": "code",
   "execution_count": 66,
   "id": "fiscal-monaco",
   "metadata": {},
   "outputs": [
    {
     "data": {
      "text/html": [
       "<table><tr><th> name </th><th> value </th><th> initial value </th><th> min </th><th> max </th><th> vary </th></tr><tr><td> A </td><td>  1.00000000 </td><td> None </td><td>  0.00000000 </td><td>         inf </td><td> True </td></tr><tr><td> τ </td><td>  1.00000000 </td><td> None </td><td>  0.00000000 </td><td>         inf </td><td> True </td></tr></table>"
      ],
      "text/plain": [
       "Parameters([('A', <Parameter 'A', value=1, bounds=[0:inf]>),\n",
       "            ('τ', <Parameter 'τ', value=1, bounds=[0:inf]>)])"
      ]
     },
     "execution_count": 66,
     "metadata": {},
     "output_type": "execute_result"
    }
   ],
   "source": [
    "mymodel=Model(exponential)\n",
    "params=mymodel.make_params()\n",
    "params['A'].value=1\n",
    "params['A'].min=0\n",
    "params['τ'].value=1\n",
    "params['τ'].min=0\n",
    "params"
   ]
  },
  {
   "cell_type": "code",
   "execution_count": 68,
   "id": "earned-resident",
   "metadata": {},
   "outputs": [
    {
     "data": {
      "text/html": [
       "<h2> Model</h2> Model(exponential) <h2>Fit Statistics</h2><table><tr><td>fitting method</td><td>leastsq</td><td></td></tr><tr><td># function evals</td><td>19</td><td></td></tr><tr><td># data points</td><td>40</td><td></td></tr><tr><td># variables</td><td>2</td><td></td></tr><tr><td>chi-square</td><td> 0.16900633</td><td></td></tr><tr><td>reduced chi-square</td><td> 0.00444753</td><td></td></tr><tr><td>Akaike info crit.</td><td>-214.667943</td><td></td></tr><tr><td>Bayesian info crit.</td><td>-211.290184</td><td></td></tr></table><h2>Variables</h2><table><tr><th> name </th><th> value </th><th> standard error </th><th> relative error </th><th> initial value </th><th> min </th><th> max </th><th> vary </th></tr><tr><td> A </td><td>  0.87974093 </td><td>  0.03418715 </td><td> (3.89%) </td><td> 1 </td><td>  0.00000000 </td><td>         inf </td><td> True </td></tr><tr><td> τ </td><td>  1.75168724 </td><td>  0.10347871 </td><td> (5.91%) </td><td> 1 </td><td>  0.00000000 </td><td>         inf </td><td> True </td></tr></table><h2>Correlations (unreported correlations are < 0.100)</h2><table><tr><td>A</td><td>τ</td><td>-0.6931</td></tr></table>"
      ],
      "text/plain": [
       "<lmfit.model.ModelResult at 0x7f9bfa2e3b20>"
      ]
     },
     "execution_count": 68,
     "metadata": {},
     "output_type": "execute_result"
    }
   ],
   "source": [
    "result = mymodel.fit(y_data, params, x=x_data)\n",
    "result"
   ]
  },
  {
   "cell_type": "code",
   "execution_count": 69,
   "id": "loving-texas",
   "metadata": {},
   "outputs": [
    {
     "data": {
      "text/plain": [
       "[<matplotlib.lines.Line2D at 0x7f9c18bc57f0>]"
      ]
     },
     "execution_count": 69,
     "metadata": {},
     "output_type": "execute_result"
    },
    {
     "data": {
      "image/png": "[encoded data removed]",
      "text/plain": [
       "<Figure size 432x288 with 1 Axes>"
      ]
     },
     "metadata": {
      "needs_background": "light"
     },
     "output_type": "display_data"
    }
   ],
   "source": [
    "plot(x_data,y_data,'o')\n",
    "\n",
    "x_fake=linspace(0,12,100)\n",
    "y_fake=result.eval(x=x_fake)\n",
    "plot(x_fake,y_fake,'-')"
   ]
  },
  {
   "cell_type": "code",
   "execution_count": 70,
   "id": "african-province",
   "metadata": {},
   "outputs": [
    {
     "data": {
      "text/html": [
       "<table><tr><th> name </th><th> value </th><th> initial value </th><th> min </th><th> max </th><th> vary </th></tr><tr><td> A1 </td><td>  1.00000000 </td><td> None </td><td>  0.00000000 </td><td>         inf </td><td> True </td></tr><tr><td> τ1 </td><td>  1.00000000 </td><td> None </td><td>  0.00000000 </td><td>         inf </td><td> True </td></tr><tr><td> A2 </td><td>  1.00000000 </td><td> None </td><td>  0.00000000 </td><td>         inf </td><td> True </td></tr><tr><td> τ2 </td><td>  1.00000000 </td><td> None </td><td>  0.00000000 </td><td>         inf </td><td> True </td></tr></table>"
      ],
      "text/plain": [
       "Parameters([('A1', <Parameter 'A1', value=1, bounds=[0:inf]>),\n",
       "            ('τ1', <Parameter 'τ1', value=1, bounds=[0:inf]>),\n",
       "            ('A2', <Parameter 'A2', value=1, bounds=[0:inf]>),\n",
       "            ('τ2', <Parameter 'τ2', value=1, bounds=[0:inf]>)])"
      ]
     },
     "execution_count": 70,
     "metadata": {},
     "output_type": "execute_result"
    }
   ],
   "source": [
    "mymodel=Model(double_exponential)\n",
    "params=mymodel.make_params()\n",
    "params['A1'].value=1\n",
    "params['A1'].min=0\n",
    "params['τ1'].value=1\n",
    "params['τ1'].min=0\n",
    "params['A2'].value=1\n",
    "params['A2'].min=0\n",
    "params['τ2'].value=1\n",
    "params['τ2'].min=0\n",
    "params"
   ]
  },
  {
   "cell_type": "code",
   "execution_count": 71,
   "id": "rental-frontier",
   "metadata": {},
   "outputs": [
    {
     "data": {
      "text/html": [
       "<h2> Model</h2> Model(double_exponential) <h2>Fit Statistics</h2><table><tr><td>fitting method</td><td>leastsq</td><td></td></tr><tr><td># function evals</td><td>46</td><td></td></tr><tr><td># data points</td><td>40</td><td></td></tr><tr><td># variables</td><td>4</td><td></td></tr><tr><td>chi-square</td><td> 0.10203590</td><td></td></tr><tr><td>reduced chi-square</td><td> 0.00283433</td><td></td></tr><tr><td>Akaike info crit.</td><td>-230.852402</td><td></td></tr><tr><td>Bayesian info crit.</td><td>-224.096884</td><td></td></tr></table><h2>Variables</h2><table><tr><th> name </th><th> value </th><th> standard error </th><th> relative error </th><th> initial value </th><th> min </th><th> max </th><th> vary </th></tr><tr><td> A1 </td><td>  0.36518724 </td><td>  0.07917504 </td><td> (21.68%) </td><td> 1 </td><td>  0.00000000 </td><td>         inf </td><td> True </td></tr><tr><td> τ1 </td><td>  0.26083674 </td><td>  0.10820004 </td><td> (41.48%) </td><td> 1 </td><td>  0.00000000 </td><td>         inf </td><td> True </td></tr><tr><td> A2 </td><td>  0.68741205 </td><td>  0.07093984 </td><td> (10.32%) </td><td> 1 </td><td>  0.00000000 </td><td>         inf </td><td> True </td></tr><tr><td> τ2 </td><td>  2.24477811 </td><td>  0.23494957 </td><td> (10.47%) </td><td> 1 </td><td>  0.00000000 </td><td>         inf </td><td> True </td></tr></table><h2>Correlations (unreported correlations are < 0.100)</h2><table><tr><td>A2</td><td>τ2</td><td>-0.9155</td></tr><tr><td>τ1</td><td>A2</td><td>-0.8020</td></tr><tr><td>A1</td><td>A2</td><td>-0.7807</td></tr><tr><td>A1</td><td>τ2</td><td>0.7311</td></tr><tr><td>τ1</td><td>τ2</td><td>0.6747</td></tr><tr><td>A1</td><td>τ1</td><td>0.4318</td></tr></table>"
      ],
      "text/plain": [
       "<lmfit.model.ModelResult at 0x7f9bfa2d1be0>"
      ]
     },
     "execution_count": 71,
     "metadata": {},
     "output_type": "execute_result"
    }
   ],
   "source": [
    "result = mymodel.fit(y_data, params, x=x_data)\n",
    "result"
   ]
  },
  {
   "cell_type": "code",
   "execution_count": 72,
   "id": "remarkable-gnome",
   "metadata": {},
   "outputs": [
    {
     "data": {
      "text/plain": [
       "[<matplotlib.lines.Line2D at 0x7f9bf9c1ffa0>]"
      ]
     },
     "execution_count": 72,
     "metadata": {},
     "output_type": "execute_result"
    },
    {
     "data": {
      "image/png": "[encoded data removed]",
      "text/plain": [
       "<Figure size 432x288 with 1 Axes>"
      ]
     },
     "metadata": {
      "needs_background": "light"
     },
     "output_type": "display_data"
    }
   ],
   "source": [
    "plot(x_data,y_data,'o')\n",
    "\n",
    "x_fake=linspace(0,12,100)\n",
    "y_fake=result.eval(x=x_fake)\n",
    "plot(x_fake,y_fake,'-')"
   ]
  },
  {
   "cell_type": "markdown",
   "id": "attended-tourist",
   "metadata": {},
   "source": [
    "## Turns out lmfit has this function too (different parameter names)..."
   ]
  },
  {
   "cell_type": "code",
   "execution_count": 73,
   "id": "continued-heather",
   "metadata": {},
   "outputs": [],
   "source": [
    "mymodel=models.ExponentialModel()"
   ]
  },
  {
   "cell_type": "code",
   "execution_count": 75,
   "id": "anticipated-chase",
   "metadata": {},
   "outputs": [
    {
     "data": {
      "text/plain": [
       "['amplitude', 'decay']"
      ]
     },
     "execution_count": 75,
     "metadata": {},
     "output_type": "execute_result"
    }
   ],
   "source": [
    "mymodel.param_names"
   ]
  },
  {
   "cell_type": "code",
   "execution_count": 76,
   "id": "compressed-imagination",
   "metadata": {},
   "outputs": [
    {
     "data": {
      "text/html": [
       "<table><tr><th> name </th><th> value </th><th> initial value </th><th> min </th><th> max </th><th> vary </th></tr><tr><td> amplitude </td><td>  1.00000000 </td><td> None </td><td>  0.00000000 </td><td>         inf </td><td> True </td></tr><tr><td> decay </td><td>  1.00000000 </td><td> None </td><td>  0.00000000 </td><td>         inf </td><td> True </td></tr></table>"
      ],
      "text/plain": [
       "Parameters([('amplitude', <Parameter 'amplitude', value=1, bounds=[0:inf]>),\n",
       "            ('decay', <Parameter 'decay', value=1, bounds=[0:inf]>)])"
      ]
     },
     "execution_count": 76,
     "metadata": {},
     "output_type": "execute_result"
    }
   ],
   "source": [
    "params=mymodel.make_params()\n",
    "params['amplitude'].value=1\n",
    "params['amplitude'].min=0\n",
    "params['decay'].value=1\n",
    "params['decay'].min=0\n",
    "params"
   ]
  },
  {
   "cell_type": "code",
   "execution_count": 78,
   "id": "threatened-change",
   "metadata": {},
   "outputs": [],
   "source": [
    "result = mymodel.fit(y_data, params, x=x_data)"
   ]
  },
  {
   "cell_type": "code",
   "execution_count": 79,
   "id": "armed-adams",
   "metadata": {},
   "outputs": [
    {
     "data": {
      "text/plain": [
       "[<matplotlib.lines.Line2D at 0x7f9bfa0bf040>]"
      ]
     },
     "execution_count": 79,
     "metadata": {},
     "output_type": "execute_result"
    },
    {
     "data": {
      "image/png": "[encoded data removed]",
      "text/plain": [
       "<Figure size 432x288 with 1 Axes>"
      ]
     },
     "metadata": {
      "needs_background": "light"
     },
     "output_type": "display_data"
    }
   ],
   "source": [
    "plot(x_data,y_data,'o')\n",
    "\n",
    "x_fake=linspace(0,12,100)\n",
    "y_fake=result.eval(x=x_fake)\n",
    "plot(x_fake,y_fake,'-')"
   ]
  },
  {
   "cell_type": "code",
   "execution_count": 88,
   "id": "analyzed-wallpaper",
   "metadata": {},
   "outputs": [
    {
     "data": {
      "text/plain": [
       "['one_amplitude', 'one_decay', 'two_amplitude', 'two_decay']"
      ]
     },
     "execution_count": 88,
     "metadata": {},
     "output_type": "execute_result"
    }
   ],
   "source": [
    "# the prefix is so that the parameters have unique names\n",
    "mymodel=models.ExponentialModel( prefix='one_') + models.ExponentialModel(prefix='two_')  \n",
    "mymodel.param_names"
   ]
  },
  {
   "cell_type": "code",
   "execution_count": 89,
   "id": "possible-stack",
   "metadata": {},
   "outputs": [
    {
     "data": {
      "text/html": [
       "<table><tr><th> name </th><th> value </th><th> initial value </th><th> min </th><th> max </th><th> vary </th></tr><tr><td> one_amplitude </td><td>  1.00000000 </td><td> None </td><td>  0.00000000 </td><td>         inf </td><td> True </td></tr><tr><td> one_decay </td><td>  1.00000000 </td><td> None </td><td>  0.00000000 </td><td>         inf </td><td> True </td></tr><tr><td> two_amplitude </td><td>  1.00000000 </td><td> None </td><td>  0.00000000 </td><td>         inf </td><td> True </td></tr><tr><td> two_decay </td><td>  1.00000000 </td><td> None </td><td>  0.00000000 </td><td>         inf </td><td> True </td></tr></table>"
      ],
      "text/plain": [
       "Parameters([('one_amplitude',\n",
       "             <Parameter 'one_amplitude', value=1, bounds=[0:inf]>),\n",
       "            ('one_decay', <Parameter 'one_decay', value=1, bounds=[0:inf]>),\n",
       "            ('two_amplitude',\n",
       "             <Parameter 'two_amplitude', value=1, bounds=[0:inf]>),\n",
       "            ('two_decay', <Parameter 'two_decay', value=1, bounds=[0:inf]>)])"
      ]
     },
     "execution_count": 89,
     "metadata": {},
     "output_type": "execute_result"
    }
   ],
   "source": [
    "params=mymodel.make_params()\n",
    "params['one_amplitude'].value=1\n",
    "params['one_amplitude'].min=0\n",
    "params['one_decay'].value=1\n",
    "params['one_decay'].min=0\n",
    "params['two_amplitude'].value=1\n",
    "params['two_amplitude'].min=0\n",
    "params['two_decay'].value=1\n",
    "params['two_decay'].min=0\n",
    "params"
   ]
  },
  {
   "cell_type": "code",
   "execution_count": 90,
   "id": "unable-sight",
   "metadata": {},
   "outputs": [],
   "source": [
    "result = mymodel.fit(y_data, params, x=x_data)"
   ]
  },
  {
   "cell_type": "code",
   "execution_count": 91,
   "id": "complicated-brazil",
   "metadata": {},
   "outputs": [
    {
     "data": {
      "text/plain": [
       "[<matplotlib.lines.Line2D at 0x7f9c18b6b460>]"
      ]
     },
     "execution_count": 91,
     "metadata": {},
     "output_type": "execute_result"
    },
    {
     "data": {
      "image/png": "[encoded data removed]",
      "text/plain": [
       "<Figure size 432x288 with 1 Axes>"
      ]
     },
     "metadata": {
      "needs_background": "light"
     },
     "output_type": "display_data"
    }
   ],
   "source": [
    "plot(x_data,y_data,'o')\n",
    "\n",
    "x_fake=linspace(0,12,100)\n",
    "y_fake=result.eval(x=x_fake)\n",
    "plot(x_fake,y_fake,'-')"
   ]
  },
  {
   "cell_type": "code",
   "execution_count": null,
   "id": "iraqi-starter",
   "metadata": {},
   "outputs": [],
   "source": []
  }
 ],
 "metadata": {
  "kernelspec": {
   "display_name": "Python 3",
   "language": "python",
   "name": "python3"
  },
  "language_info": {
   "codemirror_mode": {
    "name": "ipython",
    "version": 3
   },
   "file_extension": ".py",
   "mimetype": "text/x-python",
   "name": "python",
   "nbconvert_exporter": "python",
   "pygments_lexer": "ipython3",
   "version": "3.8.6"
  }
 },
 "nbformat": 4,
 "nbformat_minor": 5
}
