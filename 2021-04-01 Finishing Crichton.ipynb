{
 "cells": [
  {
   "cell_type": "code",
   "execution_count": 1,
   "id": "graduate-celebration",
   "metadata": {},
   "outputs": [
    {
     "name": "stdout",
     "output_type": "stream",
     "text": [
      "Populating the interactive namespace from numpy and matplotlib\n"
     ]
    }
   ],
   "source": [
    "%pylab inline"
   ]
  },
  {
   "cell_type": "code",
   "execution_count": 2,
   "id": "conservative-sterling",
   "metadata": {},
   "outputs": [
    {
     "name": "stdout",
     "output_type": "stream",
     "text": [
      "Version:  0.0.7\n"
     ]
    }
   ],
   "source": [
    "from sci378 import *"
   ]
  },
  {
   "cell_type": "code",
   "execution_count": 3,
   "id": "laden-toilet",
   "metadata": {},
   "outputs": [],
   "source": [
    "from lmfit import *"
   ]
  },
  {
   "cell_type": "markdown",
   "id": "hazardous-stadium",
   "metadata": {},
   "source": [
    "## Crichton problem"
   ]
  },
  {
   "cell_type": "markdown",
   "id": "normal-motel",
   "metadata": {},
   "source": [
    "- need temperature vs time data for all of the station (csv files in one folder)\n",
    "- need rural/urban info for each station\n",
    "- location (latitude, logitude) for each station\n",
    "\n",
    "\n",
    "- for each file do ....\n",
    "    - load data\n",
    "    - fit to a line\n",
    "    - get the slope of the line\n",
    "    - store those values\n",
    "\n",
    "\n",
    "- average of all the slopes?  (X)\n",
    "- count all positives/negatives for rural, urban -- fraction of positive for rural vs urban\n",
    "- average urban average rural, look statistical test on the average\n",
    "\n",
    "- go through all the urban stations\n",
    "    - find the closest rural station\n",
    "    - I already have the slopes - rural slope value, and an urban slope value\n",
    "    \n",
    "- plot the difference (histogram)\n",
    "- plot rural slope (y-axis) vs urban slope (x-axis)\n"
   ]
  },
  {
   "cell_type": "code",
   "execution_count": 4,
   "id": "authentic-simulation",
   "metadata": {},
   "outputs": [],
   "source": [
    "from glob import glob"
   ]
  },
  {
   "cell_type": "code",
   "execution_count": 5,
   "id": "forced-harris",
   "metadata": {},
   "outputs": [],
   "source": [
    "time_series_folder='/Users/bblais/tex/bryant/spring_2021/computer_programming_378/Crichton Data/time series'\n",
    "fnames=glob(time_series_folder+'/*.csv')\n",
    "fnames=fnames[:10]"
   ]
  },
  {
   "cell_type": "code",
   "execution_count": 6,
   "id": "alleged-mystery",
   "metadata": {},
   "outputs": [
    {
     "data": {
      "text/plain": [
       "10"
      ]
     },
     "execution_count": 6,
     "metadata": {},
     "output_type": "execute_result"
    }
   ],
   "source": [
    "len(fnames)"
   ]
  },
  {
   "cell_type": "code",
   "execution_count": 7,
   "id": "perfect-reservoir",
   "metadata": {},
   "outputs": [
    {
     "data": {
      "text/plain": [
       "['/Users/bblais/tex/bryant/spring_2021/computer_programming_378/Crichton Data/time series/CARACAS-LA CARLOTA.csv',\n",
       " '/Users/bblais/tex/bryant/spring_2021/computer_programming_378/Crichton Data/time series/TAREE.csv',\n",
       " '/Users/bblais/tex/bryant/spring_2021/computer_programming_378/Crichton Data/time series/YAXIAN.csv',\n",
       " '/Users/bblais/tex/bryant/spring_2021/computer_programming_378/Crichton Data/time series/MOANDA.csv',\n",
       " '/Users/bblais/tex/bryant/spring_2021/computer_programming_378/Crichton Data/time series/MINDEN.csv',\n",
       " '/Users/bblais/tex/bryant/spring_2021/computer_programming_378/Crichton Data/time series/NORFOLK INTL AP.csv',\n",
       " '/Users/bblais/tex/bryant/spring_2021/computer_programming_378/Crichton Data/time series/BRISBANE REGIONAL OFFI.csv',\n",
       " '/Users/bblais/tex/bryant/spring_2021/computer_programming_378/Crichton Data/time series/CHARLOTTESVILLE 2W.csv',\n",
       " '/Users/bblais/tex/bryant/spring_2021/computer_programming_378/Crichton Data/time series/CLEVELAND-CLE.csv',\n",
       " '/Users/bblais/tex/bryant/spring_2021/computer_programming_378/Crichton Data/time series/ALGONA 3 W.csv']"
      ]
     },
     "execution_count": 7,
     "metadata": {},
     "output_type": "execute_result"
    }
   ],
   "source": [
    "fnames"
   ]
  },
  {
   "cell_type": "code",
   "execution_count": 8,
   "id": "pending-hunter",
   "metadata": {},
   "outputs": [
    {
     "data": {
      "text/html": [
       "<div>\n",
       "<style scoped>\n",
       "    .dataframe tbody tr th:only-of-type {\n",
       "        vertical-align: middle;\n",
       "    }\n",
       "\n",
       "    .dataframe tbody tr th {\n",
       "        vertical-align: top;\n",
       "    }\n",
       "\n",
       "    .dataframe thead th {\n",
       "        text-align: right;\n",
       "    }\n",
       "</style>\n",
       "<table border=\"1\" class=\"dataframe\">\n",
       "  <thead>\n",
       "    <tr style=\"text-align: right;\">\n",
       "      <th></th>\n",
       "      <th>ID</th>\n",
       "      <th>Station</th>\n",
       "      <th>Latitude</th>\n",
       "      <th>Longitude</th>\n",
       "      <th>Brightness</th>\n",
       "      <th>Elevation</th>\n",
       "    </tr>\n",
       "  </thead>\n",
       "  <tbody>\n",
       "    <tr>\n",
       "      <th>0</th>\n",
       "      <td>ACW00011604</td>\n",
       "      <td>SAVE</td>\n",
       "      <td>57.7667</td>\n",
       "      <td>11.8667</td>\n",
       "      <td>45.0</td>\n",
       "      <td>18.0</td>\n",
       "    </tr>\n",
       "    <tr>\n",
       "      <th>1</th>\n",
       "      <td>AE000041196</td>\n",
       "      <td>SHARJAH_INTER_AIRP</td>\n",
       "      <td>25.3330</td>\n",
       "      <td>55.5170</td>\n",
       "      <td>39.0</td>\n",
       "      <td>34.0</td>\n",
       "    </tr>\n",
       "    <tr>\n",
       "      <th>2</th>\n",
       "      <td>AEM00041184</td>\n",
       "      <td>RAS_AL_KHAIMAH_INTE</td>\n",
       "      <td>25.6170</td>\n",
       "      <td>55.9330</td>\n",
       "      <td>17.0</td>\n",
       "      <td>31.0</td>\n",
       "    </tr>\n",
       "    <tr>\n",
       "      <th>3</th>\n",
       "      <td>AEM00041194</td>\n",
       "      <td>DUBAI_INTL</td>\n",
       "      <td>25.2550</td>\n",
       "      <td>55.3640</td>\n",
       "      <td>104.0</td>\n",
       "      <td>10.4</td>\n",
       "    </tr>\n",
       "    <tr>\n",
       "      <th>4</th>\n",
       "      <td>AEM00041216</td>\n",
       "      <td>ABU_DHABI_BATEEN_AIR</td>\n",
       "      <td>24.4300</td>\n",
       "      <td>54.4700</td>\n",
       "      <td>114.0</td>\n",
       "      <td>3.0</td>\n",
       "    </tr>\n",
       "  </tbody>\n",
       "</table>\n",
       "</div>"
      ],
      "text/plain": [
       "            ID               Station  Latitude  Longitude  Brightness  \\\n",
       "0  ACW00011604                  SAVE   57.7667    11.8667        45.0   \n",
       "1  AE000041196    SHARJAH_INTER_AIRP   25.3330    55.5170        39.0   \n",
       "2  AEM00041184   RAS_AL_KHAIMAH_INTE   25.6170    55.9330        17.0   \n",
       "3  AEM00041194            DUBAI_INTL   25.2550    55.3640       104.0   \n",
       "4  AEM00041216  ABU_DHABI_BATEEN_AIR   24.4300    54.4700       114.0   \n",
       "\n",
       "   Elevation  \n",
       "0       18.0  \n",
       "1       34.0  \n",
       "2       31.0  \n",
       "3       10.4  \n",
       "4        3.0  "
      ]
     },
     "execution_count": 8,
     "metadata": {},
     "output_type": "execute_result"
    }
   ],
   "source": [
    "station_info=pd.read_excel('data/station_info.xlsx')\n",
    "station_info.head()"
   ]
  },
  {
   "cell_type": "code",
   "execution_count": 31,
   "id": "found-longitude",
   "metadata": {},
   "outputs": [],
   "source": [
    "def get_slope(fname,plotit=False):\n",
    "    data=pd.read_csv(fname)\n",
    "    data=data.dropna()\n",
    "    x_data=data['Year']\n",
    "    y_data=data['Temperature']\n",
    "    model=models.LinearModel()\n",
    "    result=model.fit(y_data,x=x_data)\n",
    "    \n",
    "    if plotit:\n",
    "        plot(x_data,y_data,'o')\n",
    "\n",
    "        x_fake=linspace(1960,2020,100)\n",
    "        y_fake=result.eval(x=x_fake)\n",
    "        plot(x_fake,y_fake,'-')        \n",
    "    \n",
    "    return result.params['slope'].value\n",
    "\n",
    "def station_name_from_filename(filename):\n",
    "    import os\n",
    "    parts=os.path.split(filename)\n",
    "    base,ext=os.path.splitext(parts[-1])\n",
    "    return base\n",
    "\n",
    "def first_row(station_name):\n",
    "    if '.csv' in station_name:\n",
    "        station_name=station_name_from_filename(station_name)\n",
    "    \n",
    "    if not any(station_info['Station']==station_name):\n",
    "        return None\n",
    "    \n",
    "    return station_info[station_info['Station']==station_name].iloc[0]    "
   ]
  },
  {
   "cell_type": "code",
   "execution_count": 32,
   "id": "exclusive-execution",
   "metadata": {},
   "outputs": [
    {
     "data": {
      "text/plain": [
       "False"
      ]
     },
     "execution_count": 32,
     "metadata": {},
     "output_type": "execute_result"
    }
   ],
   "source": [
    "station_name='CARACAS-LA CARLOTA'\n",
    "any(station_info['Station']==station_name)"
   ]
  },
  {
   "cell_type": "code",
   "execution_count": 33,
   "id": "supported-alaska",
   "metadata": {},
   "outputs": [],
   "source": [
    "fnames=glob(time_series_folder+'/*.csv')\n",
    "station_names_with_data=[station_name_from_filename(filename) for filename in fnames]\n",
    "#fnames=fnames[:10]"
   ]
  },
  {
   "cell_type": "code",
   "execution_count": 36,
   "id": "ruled-cable",
   "metadata": {},
   "outputs": [
    {
     "name": "stdout",
     "output_type": "stream",
     "text": [
      "Could not find info for  3588\n"
     ]
    }
   ],
   "source": [
    "S=Storage()\n",
    "\n",
    "count=0\n",
    "for filename in fnames:\n",
    "    data=Struct()\n",
    "    data.slope=get_slope(filename)\n",
    "    data.station=station_name_from_filename(filename)\n",
    "    \n",
    "    row=first_row(data.station)\n",
    "    if row is None:\n",
    "        count+=1\n",
    "        continue\n",
    "    if row.Brightness>=10:\n",
    "        data.urban=True\n",
    "    else:\n",
    "        data.urban=False\n",
    "    \n",
    "    S+=data,\n",
    "    \n",
    "print(\"Could not find info for \",count)"
   ]
  },
  {
   "cell_type": "code",
   "execution_count": 28,
   "id": "periodic-lecture",
   "metadata": {},
   "outputs": [
    {
     "data": {
      "text/plain": [
       "'CARACAS-LA CARLOTA'"
      ]
     },
     "execution_count": 28,
     "metadata": {},
     "output_type": "execute_result"
    }
   ],
   "source": [
    "data.station"
   ]
  },
  {
   "cell_type": "code",
   "execution_count": 86,
   "id": "alternative-observation",
   "metadata": {},
   "outputs": [
    {
     "data": {
      "text/plain": [
       "ID            GB000004565\n",
       "Station            MOANDA\n",
       "Latitude            -1.53\n",
       "Longitude           13.27\n",
       "Brightness            0.0\n",
       "Elevation           572.0\n",
       "Name: 7521, dtype: object"
      ]
     },
     "execution_count": 86,
     "metadata": {},
     "output_type": "execute_result"
    }
   ],
   "source": [
    "first_row(station_name_from_filename(fnames[3]))"
   ]
  },
  {
   "cell_type": "code",
   "execution_count": 87,
   "id": "senior-yahoo",
   "metadata": {},
   "outputs": [
    {
     "data": {
      "text/plain": [
       "ID            GB000004565\n",
       "Station            MOANDA\n",
       "Latitude            -1.53\n",
       "Longitude           13.27\n",
       "Brightness            0.0\n",
       "Elevation           572.0\n",
       "Name: 7521, dtype: object"
      ]
     },
     "execution_count": 87,
     "metadata": {},
     "output_type": "execute_result"
    }
   ],
   "source": [
    "first_row(fnames[3])"
   ]
  },
  {
   "cell_type": "code",
   "execution_count": 84,
   "id": "eligible-corpus",
   "metadata": {},
   "outputs": [
    {
     "data": {
      "text/plain": [
       "'/Users/bblais/Desktop/time series/MOANDA.csv'"
      ]
     },
     "execution_count": 84,
     "metadata": {},
     "output_type": "execute_result"
    }
   ],
   "source": [
    "fnames[3]"
   ]
  },
  {
   "cell_type": "code",
   "execution_count": null,
   "id": "subject-replication",
   "metadata": {},
   "outputs": [],
   "source": []
  }
 ],
 "metadata": {
  "kernelspec": {
   "display_name": "Python 3",
   "language": "python",
   "name": "python3"
  },
  "language_info": {
   "codemirror_mode": {
    "name": "ipython",
    "version": 3
   },
   "file_extension": ".py",
   "mimetype": "text/x-python",
   "name": "python",
   "nbconvert_exporter": "python",
   "pygments_lexer": "ipython3",
   "version": "3.8.6"
  }
 },
 "nbformat": 4,
 "nbformat_minor": 5
}
