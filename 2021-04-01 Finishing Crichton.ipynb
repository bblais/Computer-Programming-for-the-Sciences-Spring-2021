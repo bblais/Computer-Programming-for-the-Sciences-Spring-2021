{
 "cells": [
  {
   "cell_type": "code",
   "execution_count": 1,
   "id": "julian-climb",
   "metadata": {},
   "outputs": [
    {
     "name": "stdout",
     "output_type": "stream",
     "text": [
      "Populating the interactive namespace from numpy and matplotlib\n"
     ]
    }
   ],
   "source": [
    "%pylab inline"
   ]
  },
  {
   "cell_type": "code",
   "execution_count": 2,
   "id": "impossible-country",
   "metadata": {},
   "outputs": [
    {
     "name": "stdout",
     "output_type": "stream",
     "text": [
      "Version:  0.0.7\n"
     ]
    }
   ],
   "source": [
    "from sci378 import *"
   ]
  },
  {
   "cell_type": "code",
   "execution_count": 3,
   "id": "bronze-valley",
   "metadata": {},
   "outputs": [],
   "source": [
    "from lmfit import *"
   ]
  },
  {
   "cell_type": "markdown",
   "id": "strong-norwegian",
   "metadata": {},
   "source": [
    "## Crichton problem"
   ]
  },
  {
   "cell_type": "markdown",
   "id": "cooked-layout",
   "metadata": {},
   "source": [
    "- need temperature vs time data for all of the station (csv files in one folder)\n",
    "- need rural/urban info for each station\n",
    "- location (latitude, logitude) for each station\n",
    "\n",
    "\n",
    "- for each file do ....\n",
    "    - load data\n",
    "    - fit to a line\n",
    "    - get the slope of the line\n",
    "    - store those values\n",
    "\n",
    "\n",
    "- average of all the slopes?  (X)\n",
    "- count all positives/negatives for rural, urban -- fraction of positive for rural vs urban\n",
    "- average urban average rural, look statistical test on the average\n",
    "\n",
    "- go through all the urban stations\n",
    "    - find the closest rural station\n",
    "    - I already have the slopes - rural slope value, and an urban slope value\n",
    "    \n",
    "- plot the difference (histogram)\n",
    "- plot rural slope (y-axis) vs urban slope (x-axis)\n"
   ]
  },
  {
   "cell_type": "code",
   "execution_count": 96,
   "id": "hispanic-sector",
   "metadata": {},
   "outputs": [
    {
     "data": {
      "text/html": [
       "<div>\n",
       "<style scoped>\n",
       "    .dataframe tbody tr th:only-of-type {\n",
       "        vertical-align: middle;\n",
       "    }\n",
       "\n",
       "    .dataframe tbody tr th {\n",
       "        vertical-align: top;\n",
       "    }\n",
       "\n",
       "    .dataframe thead th {\n",
       "        text-align: right;\n",
       "    }\n",
       "</style>\n",
       "<table border=\"1\" class=\"dataframe\">\n",
       "  <thead>\n",
       "    <tr style=\"text-align: right;\">\n",
       "      <th></th>\n",
       "      <th>time</th>\n",
       "      <th>ALBERNI_ROBERTSON_CREEK</th>\n",
       "      <th>VAL_D'OR</th>\n",
       "      <th>WADI_HALFA</th>\n",
       "      <th>SETTAT</th>\n",
       "      <th>SAN_JUAN_DE_LA_MAGUANA</th>\n",
       "      <th>REVELSTOKE_A</th>\n",
       "      <th>LONDON_INT'L_AIRPORT</th>\n",
       "      <th>EUFAULA_WILDLIFE_REF</th>\n",
       "      <th>OAK_MOUNTAIN_CALIFORNIA</th>\n",
       "      <th>...</th>\n",
       "      <th>SANTIAGO_COMPOSTELA</th>\n",
       "      <th>HEMLOCK</th>\n",
       "      <th>LONGVIEW_E_TX_RGNL_AP</th>\n",
       "      <th>LITTLE_SNOWY_MONTANA</th>\n",
       "      <th>YOUNG_POST_OFFICE</th>\n",
       "      <th>KEM</th>\n",
       "      <th>JINGHONG</th>\n",
       "      <th>ICH'ON</th>\n",
       "      <th>VICTORIA_VICTORIA</th>\n",
       "      <th>IRON_RIVER</th>\n",
       "    </tr>\n",
       "  </thead>\n",
       "  <tbody>\n",
       "    <tr>\n",
       "      <th>0</th>\n",
       "      <td>1880</td>\n",
       "      <td>NaN</td>\n",
       "      <td>NaN</td>\n",
       "      <td>NaN</td>\n",
       "      <td>NaN</td>\n",
       "      <td>NaN</td>\n",
       "      <td>NaN</td>\n",
       "      <td>NaN</td>\n",
       "      <td>NaN</td>\n",
       "      <td>NaN</td>\n",
       "      <td>...</td>\n",
       "      <td>NaN</td>\n",
       "      <td>NaN</td>\n",
       "      <td>NaN</td>\n",
       "      <td>NaN</td>\n",
       "      <td>NaN</td>\n",
       "      <td>NaN</td>\n",
       "      <td>NaN</td>\n",
       "      <td>NaN</td>\n",
       "      <td>NaN</td>\n",
       "      <td>NaN</td>\n",
       "    </tr>\n",
       "    <tr>\n",
       "      <th>1</th>\n",
       "      <td>1881</td>\n",
       "      <td>NaN</td>\n",
       "      <td>NaN</td>\n",
       "      <td>NaN</td>\n",
       "      <td>NaN</td>\n",
       "      <td>NaN</td>\n",
       "      <td>NaN</td>\n",
       "      <td>NaN</td>\n",
       "      <td>NaN</td>\n",
       "      <td>NaN</td>\n",
       "      <td>...</td>\n",
       "      <td>NaN</td>\n",
       "      <td>NaN</td>\n",
       "      <td>NaN</td>\n",
       "      <td>NaN</td>\n",
       "      <td>NaN</td>\n",
       "      <td>NaN</td>\n",
       "      <td>NaN</td>\n",
       "      <td>NaN</td>\n",
       "      <td>NaN</td>\n",
       "      <td>NaN</td>\n",
       "    </tr>\n",
       "    <tr>\n",
       "      <th>2</th>\n",
       "      <td>1882</td>\n",
       "      <td>NaN</td>\n",
       "      <td>NaN</td>\n",
       "      <td>NaN</td>\n",
       "      <td>NaN</td>\n",
       "      <td>NaN</td>\n",
       "      <td>NaN</td>\n",
       "      <td>NaN</td>\n",
       "      <td>NaN</td>\n",
       "      <td>NaN</td>\n",
       "      <td>...</td>\n",
       "      <td>NaN</td>\n",
       "      <td>NaN</td>\n",
       "      <td>NaN</td>\n",
       "      <td>NaN</td>\n",
       "      <td>NaN</td>\n",
       "      <td>NaN</td>\n",
       "      <td>NaN</td>\n",
       "      <td>NaN</td>\n",
       "      <td>NaN</td>\n",
       "      <td>NaN</td>\n",
       "    </tr>\n",
       "    <tr>\n",
       "      <th>3</th>\n",
       "      <td>1883</td>\n",
       "      <td>NaN</td>\n",
       "      <td>NaN</td>\n",
       "      <td>NaN</td>\n",
       "      <td>NaN</td>\n",
       "      <td>NaN</td>\n",
       "      <td>NaN</td>\n",
       "      <td>NaN</td>\n",
       "      <td>NaN</td>\n",
       "      <td>NaN</td>\n",
       "      <td>...</td>\n",
       "      <td>NaN</td>\n",
       "      <td>NaN</td>\n",
       "      <td>NaN</td>\n",
       "      <td>NaN</td>\n",
       "      <td>NaN</td>\n",
       "      <td>NaN</td>\n",
       "      <td>NaN</td>\n",
       "      <td>NaN</td>\n",
       "      <td>NaN</td>\n",
       "      <td>NaN</td>\n",
       "    </tr>\n",
       "    <tr>\n",
       "      <th>4</th>\n",
       "      <td>1884</td>\n",
       "      <td>NaN</td>\n",
       "      <td>NaN</td>\n",
       "      <td>NaN</td>\n",
       "      <td>NaN</td>\n",
       "      <td>NaN</td>\n",
       "      <td>NaN</td>\n",
       "      <td>NaN</td>\n",
       "      <td>NaN</td>\n",
       "      <td>NaN</td>\n",
       "      <td>...</td>\n",
       "      <td>NaN</td>\n",
       "      <td>NaN</td>\n",
       "      <td>NaN</td>\n",
       "      <td>NaN</td>\n",
       "      <td>NaN</td>\n",
       "      <td>NaN</td>\n",
       "      <td>NaN</td>\n",
       "      <td>NaN</td>\n",
       "      <td>NaN</td>\n",
       "      <td>NaN</td>\n",
       "    </tr>\n",
       "    <tr>\n",
       "      <th>...</th>\n",
       "      <td>...</td>\n",
       "      <td>...</td>\n",
       "      <td>...</td>\n",
       "      <td>...</td>\n",
       "      <td>...</td>\n",
       "      <td>...</td>\n",
       "      <td>...</td>\n",
       "      <td>...</td>\n",
       "      <td>...</td>\n",
       "      <td>...</td>\n",
       "      <td>...</td>\n",
       "      <td>...</td>\n",
       "      <td>...</td>\n",
       "      <td>...</td>\n",
       "      <td>...</td>\n",
       "      <td>...</td>\n",
       "      <td>...</td>\n",
       "      <td>...</td>\n",
       "      <td>...</td>\n",
       "      <td>...</td>\n",
       "      <td>...</td>\n",
       "    </tr>\n",
       "    <tr>\n",
       "      <th>136</th>\n",
       "      <td>2016</td>\n",
       "      <td>9.030</td>\n",
       "      <td>2.924167</td>\n",
       "      <td>29.372727</td>\n",
       "      <td>NaN</td>\n",
       "      <td>NaN</td>\n",
       "      <td>NaN</td>\n",
       "      <td>NaN</td>\n",
       "      <td>NaN</td>\n",
       "      <td>14.916667</td>\n",
       "      <td>...</td>\n",
       "      <td>NaN</td>\n",
       "      <td>9.825000</td>\n",
       "      <td>19.801667</td>\n",
       "      <td>6.534167</td>\n",
       "      <td>NaN</td>\n",
       "      <td>NaN</td>\n",
       "      <td>NaN</td>\n",
       "      <td>NaN</td>\n",
       "      <td>NaN</td>\n",
       "      <td>NaN</td>\n",
       "    </tr>\n",
       "    <tr>\n",
       "      <th>137</th>\n",
       "      <td>2017</td>\n",
       "      <td>3.155</td>\n",
       "      <td>2.206667</td>\n",
       "      <td>27.937500</td>\n",
       "      <td>NaN</td>\n",
       "      <td>NaN</td>\n",
       "      <td>NaN</td>\n",
       "      <td>NaN</td>\n",
       "      <td>NaN</td>\n",
       "      <td>15.155833</td>\n",
       "      <td>...</td>\n",
       "      <td>NaN</td>\n",
       "      <td>9.433333</td>\n",
       "      <td>20.028333</td>\n",
       "      <td>5.834167</td>\n",
       "      <td>NaN</td>\n",
       "      <td>NaN</td>\n",
       "      <td>NaN</td>\n",
       "      <td>NaN</td>\n",
       "      <td>NaN</td>\n",
       "      <td>NaN</td>\n",
       "    </tr>\n",
       "    <tr>\n",
       "      <th>138</th>\n",
       "      <td>2018</td>\n",
       "      <td>4.735</td>\n",
       "      <td>1.804167</td>\n",
       "      <td>28.583333</td>\n",
       "      <td>NaN</td>\n",
       "      <td>NaN</td>\n",
       "      <td>NaN</td>\n",
       "      <td>NaN</td>\n",
       "      <td>NaN</td>\n",
       "      <td>15.419167</td>\n",
       "      <td>...</td>\n",
       "      <td>NaN</td>\n",
       "      <td>8.919167</td>\n",
       "      <td>19.382500</td>\n",
       "      <td>4.616667</td>\n",
       "      <td>NaN</td>\n",
       "      <td>NaN</td>\n",
       "      <td>NaN</td>\n",
       "      <td>NaN</td>\n",
       "      <td>NaN</td>\n",
       "      <td>NaN</td>\n",
       "    </tr>\n",
       "    <tr>\n",
       "      <th>139</th>\n",
       "      <td>2019</td>\n",
       "      <td>4.885</td>\n",
       "      <td>1.297500</td>\n",
       "      <td>28.037500</td>\n",
       "      <td>NaN</td>\n",
       "      <td>NaN</td>\n",
       "      <td>NaN</td>\n",
       "      <td>NaN</td>\n",
       "      <td>NaN</td>\n",
       "      <td>14.261667</td>\n",
       "      <td>...</td>\n",
       "      <td>NaN</td>\n",
       "      <td>8.424167</td>\n",
       "      <td>19.047500</td>\n",
       "      <td>3.878333</td>\n",
       "      <td>NaN</td>\n",
       "      <td>NaN</td>\n",
       "      <td>NaN</td>\n",
       "      <td>NaN</td>\n",
       "      <td>NaN</td>\n",
       "      <td>NaN</td>\n",
       "    </tr>\n",
       "    <tr>\n",
       "      <th>140</th>\n",
       "      <td>2020</td>\n",
       "      <td>NaN</td>\n",
       "      <td>-11.890000</td>\n",
       "      <td>16.000000</td>\n",
       "      <td>NaN</td>\n",
       "      <td>NaN</td>\n",
       "      <td>NaN</td>\n",
       "      <td>NaN</td>\n",
       "      <td>NaN</td>\n",
       "      <td>7.680000</td>\n",
       "      <td>...</td>\n",
       "      <td>NaN</td>\n",
       "      <td>-1.790000</td>\n",
       "      <td>10.095000</td>\n",
       "      <td>-3.245000</td>\n",
       "      <td>NaN</td>\n",
       "      <td>NaN</td>\n",
       "      <td>NaN</td>\n",
       "      <td>NaN</td>\n",
       "      <td>NaN</td>\n",
       "      <td>NaN</td>\n",
       "    </tr>\n",
       "  </tbody>\n",
       "</table>\n",
       "<p>141 rows × 19811 columns</p>\n",
       "</div>"
      ],
      "text/plain": [
       "     time  ALBERNI_ROBERTSON_CREEK   VAL_D'OR  WADI_HALFA  SETTAT  \\\n",
       "0    1880                      NaN        NaN         NaN     NaN   \n",
       "1    1881                      NaN        NaN         NaN     NaN   \n",
       "2    1882                      NaN        NaN         NaN     NaN   \n",
       "3    1883                      NaN        NaN         NaN     NaN   \n",
       "4    1884                      NaN        NaN         NaN     NaN   \n",
       "..    ...                      ...        ...         ...     ...   \n",
       "136  2016                    9.030   2.924167   29.372727     NaN   \n",
       "137  2017                    3.155   2.206667   27.937500     NaN   \n",
       "138  2018                    4.735   1.804167   28.583333     NaN   \n",
       "139  2019                    4.885   1.297500   28.037500     NaN   \n",
       "140  2020                      NaN -11.890000   16.000000     NaN   \n",
       "\n",
       "     SAN_JUAN_DE_LA_MAGUANA  REVELSTOKE_A  LONDON_INT'L_AIRPORT  \\\n",
       "0                       NaN           NaN                   NaN   \n",
       "1                       NaN           NaN                   NaN   \n",
       "2                       NaN           NaN                   NaN   \n",
       "3                       NaN           NaN                   NaN   \n",
       "4                       NaN           NaN                   NaN   \n",
       "..                      ...           ...                   ...   \n",
       "136                     NaN           NaN                   NaN   \n",
       "137                     NaN           NaN                   NaN   \n",
       "138                     NaN           NaN                   NaN   \n",
       "139                     NaN           NaN                   NaN   \n",
       "140                     NaN           NaN                   NaN   \n",
       "\n",
       "     EUFAULA_WILDLIFE_REF  OAK_MOUNTAIN_CALIFORNIA  ...  SANTIAGO_COMPOSTELA  \\\n",
       "0                     NaN                      NaN  ...                  NaN   \n",
       "1                     NaN                      NaN  ...                  NaN   \n",
       "2                     NaN                      NaN  ...                  NaN   \n",
       "3                     NaN                      NaN  ...                  NaN   \n",
       "4                     NaN                      NaN  ...                  NaN   \n",
       "..                    ...                      ...  ...                  ...   \n",
       "136                   NaN                14.916667  ...                  NaN   \n",
       "137                   NaN                15.155833  ...                  NaN   \n",
       "138                   NaN                15.419167  ...                  NaN   \n",
       "139                   NaN                14.261667  ...                  NaN   \n",
       "140                   NaN                 7.680000  ...                  NaN   \n",
       "\n",
       "      HEMLOCK  LONGVIEW_E_TX_RGNL_AP  LITTLE_SNOWY_MONTANA  YOUNG_POST_OFFICE  \\\n",
       "0         NaN                    NaN                   NaN                NaN   \n",
       "1         NaN                    NaN                   NaN                NaN   \n",
       "2         NaN                    NaN                   NaN                NaN   \n",
       "3         NaN                    NaN                   NaN                NaN   \n",
       "4         NaN                    NaN                   NaN                NaN   \n",
       "..        ...                    ...                   ...                ...   \n",
       "136  9.825000              19.801667              6.534167                NaN   \n",
       "137  9.433333              20.028333              5.834167                NaN   \n",
       "138  8.919167              19.382500              4.616667                NaN   \n",
       "139  8.424167              19.047500              3.878333                NaN   \n",
       "140 -1.790000              10.095000             -3.245000                NaN   \n",
       "\n",
       "     KEM  JINGHONG  ICH'ON  VICTORIA_VICTORIA  IRON_RIVER  \n",
       "0    NaN       NaN     NaN                NaN         NaN  \n",
       "1    NaN       NaN     NaN                NaN         NaN  \n",
       "2    NaN       NaN     NaN                NaN         NaN  \n",
       "3    NaN       NaN     NaN                NaN         NaN  \n",
       "4    NaN       NaN     NaN                NaN         NaN  \n",
       "..   ...       ...     ...                ...         ...  \n",
       "136  NaN       NaN     NaN                NaN         NaN  \n",
       "137  NaN       NaN     NaN                NaN         NaN  \n",
       "138  NaN       NaN     NaN                NaN         NaN  \n",
       "139  NaN       NaN     NaN                NaN         NaN  \n",
       "140  NaN       NaN     NaN                NaN         NaN  \n",
       "\n",
       "[141 rows x 19811 columns]"
      ]
     },
     "execution_count": 96,
     "metadata": {},
     "output_type": "execute_result"
    }
   ],
   "source": [
    "data=pd.read_csv('data/time series data pandas.csv.zip')\n",
    "data"
   ]
  },
  {
   "cell_type": "code",
   "execution_count": 97,
   "id": "theoretical-intersection",
   "metadata": {},
   "outputs": [
    {
     "ename": "ValueError",
     "evalue": "This sheet is too large! Your sheet size is: 141, 19811 Max sheet size is: 1048576, 16384",
     "output_type": "error",
     "traceback": [
      "\u001b[0;31m---------------------------------------------------------------------------\u001b[0m",
      "\u001b[0;31mValueError\u001b[0m                                Traceback (most recent call last)",
      "\u001b[0;32m<ipython-input-97-7977534108f8>\u001b[0m in \u001b[0;36m<module>\u001b[0;34m\u001b[0m\n\u001b[0;32m----> 1\u001b[0;31m \u001b[0mdata\u001b[0m\u001b[0;34m.\u001b[0m\u001b[0mto_excel\u001b[0m\u001b[0;34m(\u001b[0m\u001b[0;34m'test.xlsx'\u001b[0m\u001b[0;34m)\u001b[0m\u001b[0;34m\u001b[0m\u001b[0;34m\u001b[0m\u001b[0m\n\u001b[0m",
      "\u001b[0;32m~/opt/anaconda3/envs/py3/lib/python3.8/site-packages/pandas/core/generic.py\u001b[0m in \u001b[0;36mto_excel\u001b[0;34m(self, excel_writer, sheet_name, na_rep, float_format, columns, header, index, index_label, startrow, startcol, engine, merge_cells, encoding, inf_rep, verbose, freeze_panes, storage_options)\u001b[0m\n\u001b[1;32m   2186\u001b[0m             \u001b[0minf_rep\u001b[0m\u001b[0;34m=\u001b[0m\u001b[0minf_rep\u001b[0m\u001b[0;34m,\u001b[0m\u001b[0;34m\u001b[0m\u001b[0;34m\u001b[0m\u001b[0m\n\u001b[1;32m   2187\u001b[0m         )\n\u001b[0;32m-> 2188\u001b[0;31m         formatter.write(\n\u001b[0m\u001b[1;32m   2189\u001b[0m             \u001b[0mexcel_writer\u001b[0m\u001b[0;34m,\u001b[0m\u001b[0;34m\u001b[0m\u001b[0;34m\u001b[0m\u001b[0m\n\u001b[1;32m   2190\u001b[0m             \u001b[0msheet_name\u001b[0m\u001b[0;34m=\u001b[0m\u001b[0msheet_name\u001b[0m\u001b[0;34m,\u001b[0m\u001b[0;34m\u001b[0m\u001b[0;34m\u001b[0m\u001b[0m\n",
      "\u001b[0;32m~/opt/anaconda3/envs/py3/lib/python3.8/site-packages/pandas/io/formats/excel.py\u001b[0m in \u001b[0;36mwrite\u001b[0;34m(self, writer, sheet_name, startrow, startcol, freeze_panes, engine, storage_options)\u001b[0m\n\u001b[1;32m    801\u001b[0m         \u001b[0mnum_rows\u001b[0m\u001b[0;34m,\u001b[0m \u001b[0mnum_cols\u001b[0m \u001b[0;34m=\u001b[0m \u001b[0mself\u001b[0m\u001b[0;34m.\u001b[0m\u001b[0mdf\u001b[0m\u001b[0;34m.\u001b[0m\u001b[0mshape\u001b[0m\u001b[0;34m\u001b[0m\u001b[0;34m\u001b[0m\u001b[0m\n\u001b[1;32m    802\u001b[0m         \u001b[0;32mif\u001b[0m \u001b[0mnum_rows\u001b[0m \u001b[0;34m>\u001b[0m \u001b[0mself\u001b[0m\u001b[0;34m.\u001b[0m\u001b[0mmax_rows\u001b[0m \u001b[0;32mor\u001b[0m \u001b[0mnum_cols\u001b[0m \u001b[0;34m>\u001b[0m \u001b[0mself\u001b[0m\u001b[0;34m.\u001b[0m\u001b[0mmax_cols\u001b[0m\u001b[0;34m:\u001b[0m\u001b[0;34m\u001b[0m\u001b[0;34m\u001b[0m\u001b[0m\n\u001b[0;32m--> 803\u001b[0;31m             raise ValueError(\n\u001b[0m\u001b[1;32m    804\u001b[0m                 \u001b[0;34mf\"This sheet is too large! Your sheet size is: {num_rows}, {num_cols} \"\u001b[0m\u001b[0;34m\u001b[0m\u001b[0;34m\u001b[0m\u001b[0m\n\u001b[1;32m    805\u001b[0m                 \u001b[0;34mf\"Max sheet size is: {self.max_rows}, {self.max_cols}\"\u001b[0m\u001b[0;34m\u001b[0m\u001b[0;34m\u001b[0m\u001b[0m\n",
      "\u001b[0;31mValueError\u001b[0m: This sheet is too large! Your sheet size is: 141, 19811 Max sheet size is: 1048576, 16384"
     ]
    }
   ],
   "source": [
    "#data.to_excel('test.xlsx')"
   ]
  },
  {
   "cell_type": "code",
   "execution_count": 25,
   "id": "brave-worthy",
   "metadata": {},
   "outputs": [
    {
     "data": {
      "text/plain": [
       "(19810, 6)"
      ]
     },
     "execution_count": 25,
     "metadata": {},
     "output_type": "execute_result"
    }
   ],
   "source": [
    "station_info=pd.read_excel('data/station_info_updated.xlsx')\n",
    "station_info.shape"
   ]
  },
  {
   "cell_type": "code",
   "execution_count": 26,
   "id": "banner-creation",
   "metadata": {},
   "outputs": [
    {
     "data": {
      "text/html": [
       "<div>\n",
       "<style scoped>\n",
       "    .dataframe tbody tr th:only-of-type {\n",
       "        vertical-align: middle;\n",
       "    }\n",
       "\n",
       "    .dataframe tbody tr th {\n",
       "        vertical-align: top;\n",
       "    }\n",
       "\n",
       "    .dataframe thead th {\n",
       "        text-align: right;\n",
       "    }\n",
       "</style>\n",
       "<table border=\"1\" class=\"dataframe\">\n",
       "  <thead>\n",
       "    <tr style=\"text-align: right;\">\n",
       "      <th></th>\n",
       "      <th>ID</th>\n",
       "      <th>Station</th>\n",
       "      <th>Latitude</th>\n",
       "      <th>Longitude</th>\n",
       "      <th>Brightness</th>\n",
       "      <th>Elevation</th>\n",
       "    </tr>\n",
       "  </thead>\n",
       "  <tbody>\n",
       "    <tr>\n",
       "      <th>0</th>\n",
       "      <td>ACW00011604</td>\n",
       "      <td>SAVE</td>\n",
       "      <td>57.7667</td>\n",
       "      <td>11.8667</td>\n",
       "      <td>45.0</td>\n",
       "      <td>18.0</td>\n",
       "    </tr>\n",
       "    <tr>\n",
       "      <th>1</th>\n",
       "      <td>AE000041196</td>\n",
       "      <td>SHARJAH_INTER_AIRP</td>\n",
       "      <td>25.3330</td>\n",
       "      <td>55.5170</td>\n",
       "      <td>39.0</td>\n",
       "      <td>34.0</td>\n",
       "    </tr>\n",
       "    <tr>\n",
       "      <th>2</th>\n",
       "      <td>AEM00041184</td>\n",
       "      <td>RAS_AL_KHAIMAH_INTE</td>\n",
       "      <td>25.6170</td>\n",
       "      <td>55.9330</td>\n",
       "      <td>17.0</td>\n",
       "      <td>31.0</td>\n",
       "    </tr>\n",
       "    <tr>\n",
       "      <th>3</th>\n",
       "      <td>AEM00041194</td>\n",
       "      <td>DUBAI_INTL</td>\n",
       "      <td>25.2550</td>\n",
       "      <td>55.3640</td>\n",
       "      <td>104.0</td>\n",
       "      <td>10.4</td>\n",
       "    </tr>\n",
       "    <tr>\n",
       "      <th>4</th>\n",
       "      <td>AEM00041216</td>\n",
       "      <td>ABU_DHABI_BATEEN_AIR</td>\n",
       "      <td>24.4300</td>\n",
       "      <td>54.4700</td>\n",
       "      <td>114.0</td>\n",
       "      <td>3.0</td>\n",
       "    </tr>\n",
       "  </tbody>\n",
       "</table>\n",
       "</div>"
      ],
      "text/plain": [
       "            ID               Station  Latitude  Longitude  Brightness  \\\n",
       "0  ACW00011604                  SAVE   57.7667    11.8667        45.0   \n",
       "1  AE000041196    SHARJAH_INTER_AIRP   25.3330    55.5170        39.0   \n",
       "2  AEM00041184   RAS_AL_KHAIMAH_INTE   25.6170    55.9330        17.0   \n",
       "3  AEM00041194            DUBAI_INTL   25.2550    55.3640       104.0   \n",
       "4  AEM00041216  ABU_DHABI_BATEEN_AIR   24.4300    54.4700       114.0   \n",
       "\n",
       "   Elevation  \n",
       "0       18.0  \n",
       "1       34.0  \n",
       "2       31.0  \n",
       "3       10.4  \n",
       "4        3.0  "
      ]
     },
     "execution_count": 26,
     "metadata": {},
     "output_type": "execute_result"
    }
   ],
   "source": [
    "station_info.head()"
   ]
  },
  {
   "cell_type": "code",
   "execution_count": 54,
   "id": "golden-exercise",
   "metadata": {},
   "outputs": [
    {
     "data": {
      "text/html": [
       "<div>\n",
       "<style scoped>\n",
       "    .dataframe tbody tr th:only-of-type {\n",
       "        vertical-align: middle;\n",
       "    }\n",
       "\n",
       "    .dataframe tbody tr th {\n",
       "        vertical-align: top;\n",
       "    }\n",
       "\n",
       "    .dataframe thead th {\n",
       "        text-align: right;\n",
       "    }\n",
       "</style>\n",
       "<table border=\"1\" class=\"dataframe\">\n",
       "  <thead>\n",
       "    <tr style=\"text-align: right;\">\n",
       "      <th></th>\n",
       "      <th>ID</th>\n",
       "      <th>Station</th>\n",
       "      <th>Latitude</th>\n",
       "      <th>Longitude</th>\n",
       "      <th>Brightness</th>\n",
       "      <th>Elevation</th>\n",
       "    </tr>\n",
       "  </thead>\n",
       "  <tbody>\n",
       "    <tr>\n",
       "      <th>7</th>\n",
       "      <td>AFM00040911</td>\n",
       "      <td>MAZAR_I_SHARIF</td>\n",
       "      <td>36.700</td>\n",
       "      <td>67.2000</td>\n",
       "      <td>0.0</td>\n",
       "      <td>378.0</td>\n",
       "    </tr>\n",
       "    <tr>\n",
       "      <th>8</th>\n",
       "      <td>AFM00040938</td>\n",
       "      <td>HERAT</td>\n",
       "      <td>34.210</td>\n",
       "      <td>62.2280</td>\n",
       "      <td>0.0</td>\n",
       "      <td>977.2</td>\n",
       "    </tr>\n",
       "    <tr>\n",
       "      <th>9</th>\n",
       "      <td>AFM00040948</td>\n",
       "      <td>KABUL_INTL</td>\n",
       "      <td>34.566</td>\n",
       "      <td>69.2120</td>\n",
       "      <td>0.0</td>\n",
       "      <td>1791.3</td>\n",
       "    </tr>\n",
       "    <tr>\n",
       "      <th>10</th>\n",
       "      <td>AFM00040990</td>\n",
       "      <td>KANDAHAR_AIRPORT</td>\n",
       "      <td>31.500</td>\n",
       "      <td>65.8500</td>\n",
       "      <td>0.0</td>\n",
       "      <td>1010.0</td>\n",
       "    </tr>\n",
       "    <tr>\n",
       "      <th>14</th>\n",
       "      <td>AG000060680</td>\n",
       "      <td>TAMANRASSET</td>\n",
       "      <td>22.800</td>\n",
       "      <td>5.4331</td>\n",
       "      <td>0.0</td>\n",
       "      <td>1362.0</td>\n",
       "    </tr>\n",
       "    <tr>\n",
       "      <th>...</th>\n",
       "      <td>...</td>\n",
       "      <td>...</td>\n",
       "      <td>...</td>\n",
       "      <td>...</td>\n",
       "      <td>...</td>\n",
       "      <td>...</td>\n",
       "    </tr>\n",
       "    <tr>\n",
       "      <th>19803</th>\n",
       "      <td>ZI000067969</td>\n",
       "      <td>WEST_NICHOLSON</td>\n",
       "      <td>-21.050</td>\n",
       "      <td>29.3670</td>\n",
       "      <td>0.0</td>\n",
       "      <td>861.0</td>\n",
       "    </tr>\n",
       "    <tr>\n",
       "      <th>19804</th>\n",
       "      <td>ZI000067975</td>\n",
       "      <td>MASVINGO</td>\n",
       "      <td>-20.067</td>\n",
       "      <td>30.8670</td>\n",
       "      <td>0.0</td>\n",
       "      <td>1095.0</td>\n",
       "    </tr>\n",
       "    <tr>\n",
       "      <th>19805</th>\n",
       "      <td>ZI000067983</td>\n",
       "      <td>CHIPINGE</td>\n",
       "      <td>-20.200</td>\n",
       "      <td>32.6160</td>\n",
       "      <td>0.0</td>\n",
       "      <td>1132.0</td>\n",
       "    </tr>\n",
       "    <tr>\n",
       "      <th>19806</th>\n",
       "      <td>ZI000067991</td>\n",
       "      <td>BEITBRIDGE</td>\n",
       "      <td>-22.217</td>\n",
       "      <td>30.0000</td>\n",
       "      <td>8.0</td>\n",
       "      <td>457.0</td>\n",
       "    </tr>\n",
       "    <tr>\n",
       "      <th>19808</th>\n",
       "      <td>ZIXLT443557</td>\n",
       "      <td>GRAND_REEF</td>\n",
       "      <td>-18.980</td>\n",
       "      <td>32.4500</td>\n",
       "      <td>0.0</td>\n",
       "      <td>1018.0</td>\n",
       "    </tr>\n",
       "  </tbody>\n",
       "</table>\n",
       "<p>10947 rows × 6 columns</p>\n",
       "</div>"
      ],
      "text/plain": [
       "                ID           Station  Latitude  Longitude  Brightness  \\\n",
       "7      AFM00040911    MAZAR_I_SHARIF    36.700    67.2000         0.0   \n",
       "8      AFM00040938             HERAT    34.210    62.2280         0.0   \n",
       "9      AFM00040948        KABUL_INTL    34.566    69.2120         0.0   \n",
       "10     AFM00040990  KANDAHAR_AIRPORT    31.500    65.8500         0.0   \n",
       "14     AG000060680       TAMANRASSET    22.800     5.4331         0.0   \n",
       "...            ...               ...       ...        ...         ...   \n",
       "19803  ZI000067969    WEST_NICHOLSON   -21.050    29.3670         0.0   \n",
       "19804  ZI000067975          MASVINGO   -20.067    30.8670         0.0   \n",
       "19805  ZI000067983          CHIPINGE   -20.200    32.6160         0.0   \n",
       "19806  ZI000067991        BEITBRIDGE   -22.217    30.0000         8.0   \n",
       "19808  ZIXLT443557        GRAND_REEF   -18.980    32.4500         0.0   \n",
       "\n",
       "       Elevation  \n",
       "7          378.0  \n",
       "8          977.2  \n",
       "9         1791.3  \n",
       "10        1010.0  \n",
       "14        1362.0  \n",
       "...          ...  \n",
       "19803      861.0  \n",
       "19804     1095.0  \n",
       "19805     1132.0  \n",
       "19806      457.0  \n",
       "19808     1018.0  \n",
       "\n",
       "[10947 rows x 6 columns]"
      ]
     },
     "execution_count": 54,
     "metadata": {},
     "output_type": "execute_result"
    }
   ],
   "source": [
    "station_info[station_info['Brightness']<10]"
   ]
  },
  {
   "cell_type": "code",
   "execution_count": 58,
   "id": "recreational-stress",
   "metadata": {},
   "outputs": [],
   "source": [
    "def get_slope(name,plotit=False):\n",
    "    subdata=data[['time',name]].dropna()\n",
    "    x_data=subdata['time']\n",
    "    y_data=subdata[name]\n",
    "    model=models.LinearModel()\n",
    "    result=model.fit(y_data,x=x_data)\n",
    "    \n",
    "    if plotit:\n",
    "        plot(x_data,y_data,'o')\n",
    "\n",
    "        x_fake=linspace(1960,2020,100)\n",
    "        y_fake=result.eval(x=x_fake)\n",
    "        plot(x_fake,y_fake,'-')\n",
    "        title(name)\n",
    "    \n",
    "    return result.params['slope'].value\n",
    "\n",
    "\n",
    "def first_row(name):\n",
    "    return station_info[station_info['Station']==name].iloc[0]    "
   ]
  },
  {
   "cell_type": "code",
   "execution_count": 59,
   "id": "behind-massachusetts",
   "metadata": {},
   "outputs": [
    {
     "data": {
      "text/plain": [
       "(-0.05879145283711251,\n",
       " ID               AFM00040911\n",
       " Station       MAZAR_I_SHARIF\n",
       " Latitude                36.7\n",
       " Longitude               67.2\n",
       " Brightness               0.0\n",
       " Elevation              378.0\n",
       " Name: 7, dtype: object)"
      ]
     },
     "execution_count": 59,
     "metadata": {},
     "output_type": "execute_result"
    }
   ],
   "source": [
    "get_slope('MAZAR_I_SHARIF'),first_row('MAZAR_I_SHARIF')"
   ]
  },
  {
   "cell_type": "code",
   "execution_count": 61,
   "id": "killing-youth",
   "metadata": {},
   "outputs": [],
   "source": [
    "from tqdm import tqdm"
   ]
  },
  {
   "cell_type": "code",
   "execution_count": 62,
   "id": "adjustable-weapon",
   "metadata": {},
   "outputs": [
    {
     "name": "stderr",
     "output_type": "stream",
     "text": [
      "100%|██████████| 19810/19810 [04:14<00:00, 77.98it/s]\n"
     ]
    }
   ],
   "source": [
    "S=Storage()\n",
    "slope_data={}\n",
    "\n",
    "for name in tqdm(station_info['Station']):\n",
    "    data1=Struct()\n",
    "    data1.slope=get_slope(name)\n",
    "    data1.station=name\n",
    "    \n",
    "    row=first_row(name)\n",
    "    if row.Brightness>=10:\n",
    "        data1.urban=True\n",
    "    else:\n",
    "        data1.urban=False\n",
    "        \n",
    "    data1.latitude=row.Latitude\n",
    "    data1.longitude=row.Longitude\n",
    "    \n",
    "    slope_data[name]=data1\n",
    "    \n"
   ]
  },
  {
   "cell_type": "code",
   "execution_count": null,
   "id": "running-session",
   "metadata": {},
   "outputs": [],
   "source": []
  },
  {
   "cell_type": "code",
   "execution_count": 64,
   "id": "liquid-collective",
   "metadata": {},
   "outputs": [
    {
     "data": {
      "text/plain": [
       "False"
      ]
     },
     "execution_count": 64,
     "metadata": {},
     "output_type": "execute_result"
    }
   ],
   "source": [
    "all([slope_data[_].urban for _ in slope_data])"
   ]
  },
  {
   "cell_type": "code",
   "execution_count": 65,
   "id": "swiss-emission",
   "metadata": {},
   "outputs": [],
   "source": [
    "def closest_rural(urban_name):\n",
    "    min_distance=1e500\n",
    "    min_name=None\n",
    "    \n",
    "    for name in station_info['Station']:\n",
    "        if slope_data[name].urban:\n",
    "            continue # skip the urbans\n",
    "            \n",
    "        x1,y1=slope_data[name].latitude,slope_data[name].longitude\n",
    "        x2,y2=slope_data[urban_name].latitude,slope_data[urban_name].longitude\n",
    "        distance=sqrt((x1-x2)**2+(y1-y2)**2)\n",
    "        \n",
    "        if distance<min_distance:\n",
    "            min_distance=distance\n",
    "            min_name=name\n",
    "            \n",
    "    return min_name\n",
    "    "
   ]
  },
  {
   "cell_type": "code",
   "execution_count": 73,
   "id": "hydraulic-travel",
   "metadata": {},
   "outputs": [
    {
     "name": "stderr",
     "output_type": "stream",
     "text": [
      "100%|██████████| 19810/19810 [08:11<00:00, 40.30it/s] \n"
     ]
    }
   ],
   "source": [
    "for name in tqdm(slope_data):\n",
    "        \n",
    "    if slope_data[name].urban:\n",
    "        rural_name=closest_rural(name)\n",
    "        slope_data[name].closest_rural_name=rural_name\n",
    "        slope_data[name].closest_rural_slope=slope_data[rural_name].slope\n",
    "    else:\n",
    "        continue\n",
    "        \n",
    "    \n",
    "    "
   ]
  },
  {
   "cell_type": "code",
   "execution_count": 76,
   "id": "welcome-piece",
   "metadata": {},
   "outputs": [],
   "source": [
    "urban_slope=array([slope_data[_].slope for _ in slope_data if slope_data[_].urban])\n",
    "nearby_rural_slope=array([slope_data[_].closest_rural_slope for _ in slope_data if slope_data[_].urban])\n",
    "rural_slope=array([slope_data[_].slope for _ in slope_data if not slope_data[_].urban])"
   ]
  },
  {
   "cell_type": "code",
   "execution_count": 98,
   "id": "alike-sociology",
   "metadata": {},
   "outputs": [
    {
     "data": {
      "text/plain": [
       "8563"
      ]
     },
     "execution_count": 98,
     "metadata": {},
     "output_type": "execute_result"
    }
   ],
   "source": [
    "len(urban_slope)"
   ]
  },
  {
   "cell_type": "code",
   "execution_count": 102,
   "id": "manufactured-canberra",
   "metadata": {},
   "outputs": [
    {
     "data": {
      "text/plain": [
       "(0.0045507571702130606, 0.0033465970491674915)"
      ]
     },
     "execution_count": 102,
     "metadata": {},
     "output_type": "execute_result"
    },
    {
     "data": {
      "image/png": "[encoded data removed]",
      "text/plain": [
       "<Figure size 864x576 with 1 Axes>"
      ]
     },
     "metadata": {
      "needs_background": "light"
     },
     "output_type": "display_data"
    }
   ],
   "source": [
    "histogram(urban_slope,500);\n",
    "histogram(rural_slope,500);\n",
    "xlim([-.1,.1])\n",
    "xlabel('slope')\n",
    "mean(urban_slope),mean(rural_slope)"
   ]
  },
  {
   "cell_type": "code",
   "execution_count": 103,
   "id": "liquid-madrid",
   "metadata": {},
   "outputs": [
    {
     "data": {
      "text/plain": [
       "(-0.3, 0.3)"
      ]
     },
     "execution_count": 103,
     "metadata": {},
     "output_type": "execute_result"
    },
    {
     "data": {
      "image/png": "[encoded data removed]",
      "text/plain": [
       "<Figure size 576x576 with 1 Axes>"
      ]
     },
     "metadata": {
      "needs_background": "light"
     },
     "output_type": "display_data"
    }
   ],
   "source": [
    "figure(figsize=(8,8))\n",
    "plot([0],[0],'o',alpha=0.2)\n",
    "axis('equal')\n",
    "xlabel('urban slope')\n",
    "ylabel('rural slope')\n",
    "plot([0,0],[-.7,.7],'k')\n",
    "plot([-.7,.7],[0,0],'k')\n",
    "xlim([-.3,.3])\n",
    "ylim([-.3,.3])"
   ]
  },
  {
   "cell_type": "code",
   "execution_count": 105,
   "id": "through-convert",
   "metadata": {},
   "outputs": [
    {
     "data": {
      "text/plain": [
       "(-0.3, 0.3)"
      ]
     },
     "execution_count": 105,
     "metadata": {},
     "output_type": "execute_result"
    },
    {
     "data": {
      "image/png": "[encoded data removed]",
      "text/plain": [
       "<Figure size 576x576 with 1 Axes>"
      ]
     },
     "metadata": {
      "needs_background": "light"
     },
     "output_type": "display_data"
    }
   ],
   "source": [
    "figure(figsize=(8,8))\n",
    "plot(urban_slope,nearby_rural_slope,'o',alpha=0.1)\n",
    "axis('equal')\n",
    "xlabel('urban slope')\n",
    "ylabel('rural slope')\n",
    "plot([0,0],[-.7,.7],'k')\n",
    "plot([-.7,.7],[0,0],'k')\n",
    "xlim([-.3,.3])\n",
    "ylim([-.3,.3])"
   ]
  },
  {
   "cell_type": "code",
   "execution_count": null,
   "id": "complex-lewis",
   "metadata": {},
   "outputs": [],
   "source": []
  }
 ],
 "metadata": {
  "kernelspec": {
   "display_name": "Python 3",
   "language": "python",
   "name": "python3"
  },
  "language_info": {
   "codemirror_mode": {
    "name": "ipython",
    "version": 3
   },
   "file_extension": ".py",
   "mimetype": "text/x-python",
   "name": "python",
   "nbconvert_exporter": "python",
   "pygments_lexer": "ipython3",
   "version": "3.8.6"
  }
 },
 "nbformat": 4,
 "nbformat_minor": 5
}
