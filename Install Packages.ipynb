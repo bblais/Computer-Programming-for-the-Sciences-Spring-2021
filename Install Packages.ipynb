{
 "cells": [
  {
   "cell_type": "code",
   "execution_count": 1,
   "metadata": {},
   "outputs": [
    {
     "name": "stdout",
     "output_type": "stream",
     "text": [
      "Collecting git+git://github.com/bblais/sci378\n",
      "  Cloning git://github.com/bblais/sci378 to /Users/bblais/tmp/pip-req-build-jqxqbyto\n",
      "Requirement already satisfied: matplotlib in /Users/bblais/opt/anaconda3/lib/python3.8/site-packages (from sci378==0.0.7) (3.3.2)\n",
      "Requirement already satisfied: pandas in /Users/bblais/opt/anaconda3/lib/python3.8/site-packages (from sci378==0.0.7) (1.2.1)\n",
      "Requirement already satisfied: kiwisolver>=1.0.1 in /Users/bblais/opt/anaconda3/lib/python3.8/site-packages (from matplotlib->sci378==0.0.7) (1.3.1)\n",
      "Requirement already satisfied: pyparsing!=2.0.4,!=2.1.2,!=2.1.6,>=2.0.3 in /Users/bblais/opt/anaconda3/lib/python3.8/site-packages (from matplotlib->sci378==0.0.7) (2.4.7)\n",
      "Requirement already satisfied: cycler>=0.10 in /Users/bblais/opt/anaconda3/lib/python3.8/site-packages (from matplotlib->sci378==0.0.7) (0.10.0)\n",
      "Requirement already satisfied: certifi>=2020.06.20 in /Users/bblais/opt/anaconda3/lib/python3.8/site-packages (from matplotlib->sci378==0.0.7) (2020.12.5)\n",
      "Requirement already satisfied: pillow>=6.2.0 in /Users/bblais/opt/anaconda3/lib/python3.8/site-packages (from matplotlib->sci378==0.0.7) (8.1.0)\n",
      "Requirement already satisfied: python-dateutil>=2.1 in /Users/bblais/opt/anaconda3/lib/python3.8/site-packages (from matplotlib->sci378==0.0.7) (2.8.1)\n",
      "Requirement already satisfied: numpy>=1.15 in /Users/bblais/opt/anaconda3/lib/python3.8/site-packages (from matplotlib->sci378==0.0.7) (1.19.2)\n",
      "Requirement already satisfied: six in /Users/bblais/opt/anaconda3/lib/python3.8/site-packages (from cycler>=0.10->matplotlib->sci378==0.0.7) (1.15.0)\n",
      "Requirement already satisfied: pytz>=2017.3 in /Users/bblais/opt/anaconda3/lib/python3.8/site-packages (from pandas->sci378==0.0.7) (2021.1)\n"
     ]
    }
   ],
   "source": [
    "!pip install \"git+git://github.com/bblais/sci378\" --upgrade"
   ]
  },
  {
   "cell_type": "code",
   "execution_count": 1,
   "metadata": {},
   "outputs": [
    {
     "name": "stdout",
     "output_type": "stream",
     "text": [
      "Version:  0.0.7\n"
     ]
    }
   ],
   "source": [
    "import sci378"
   ]
  },
  {
   "cell_type": "code",
   "execution_count": 3,
   "metadata": {},
   "outputs": [
    {
     "name": "stdout",
     "output_type": "stream",
     "text": [
      "https://github.com/bblais/Computer-Programming-For-the-Sciences-Spring-2021  --->  /Users/bblais/Downloads/Computer-Programming-For-the-Sciences-Spring-2021\n",
      "[\"Cloning into 'Computer-Programming-For-the-Sciences-Spring-2021'...\"]\n"
     ]
    }
   ],
   "source": [
    "sci378.get_course_github()"
   ]
  },
  {
   "cell_type": "code",
   "execution_count": 3,
   "metadata": {},
   "outputs": [
    {
     "name": "stdout",
     "output_type": "stream",
     "text": [
      "Collecting git+git://github.com/bblais/pyndamics3\n",
      "  Cloning git://github.com/bblais/pyndamics3 to /Users/bblais/tmp/pip-req-build-yzdvd2lj\n",
      "Requirement already satisfied: matplotlib in /Users/bblais/opt/anaconda3/lib/python3.8/site-packages (from pyndamics3==0.0.7) (3.3.2)\n",
      "Requirement already satisfied: scipy in /Users/bblais/opt/anaconda3/lib/python3.8/site-packages (from pyndamics3==0.0.7) (1.6.0)\n",
      "Requirement already satisfied: emcee in /Users/bblais/opt/anaconda3/lib/python3.8/site-packages (from pyndamics3==0.0.7) (3.0.2)\n",
      "Requirement already satisfied: lmfit in /Users/bblais/opt/anaconda3/lib/python3.8/site-packages (from pyndamics3==0.0.7) (1.0.2)\n",
      "Requirement already satisfied: numdifftools in /Users/bblais/opt/anaconda3/lib/python3.8/site-packages (from pyndamics3==0.0.7) (0.9.39)\n",
      "Requirement already satisfied: numpy in /Users/bblais/opt/anaconda3/lib/python3.8/site-packages (from emcee->pyndamics3==0.0.7) (1.19.2)\n",
      "Requirement already satisfied: uncertainties>=3.0.1 in /Users/bblais/opt/anaconda3/lib/python3.8/site-packages (from lmfit->pyndamics3==0.0.7) (3.1.5)\n",
      "Requirement already satisfied: asteval>=0.9.16 in /Users/bblais/opt/anaconda3/lib/python3.8/site-packages (from lmfit->pyndamics3==0.0.7) (0.9.23)\n",
      "Requirement already satisfied: future in /Users/bblais/opt/anaconda3/lib/python3.8/site-packages (from uncertainties>=3.0.1->lmfit->pyndamics3==0.0.7) (0.18.2)\n",
      "Requirement already satisfied: certifi>=2020.06.20 in /Users/bblais/opt/anaconda3/lib/python3.8/site-packages (from matplotlib->pyndamics3==0.0.7) (2020.12.5)\n",
      "Requirement already satisfied: pyparsing!=2.0.4,!=2.1.2,!=2.1.6,>=2.0.3 in /Users/bblais/opt/anaconda3/lib/python3.8/site-packages (from matplotlib->pyndamics3==0.0.7) (2.4.7)\n",
      "Requirement already satisfied: pillow>=6.2.0 in /Users/bblais/opt/anaconda3/lib/python3.8/site-packages (from matplotlib->pyndamics3==0.0.7) (8.1.0)\n",
      "Requirement already satisfied: python-dateutil>=2.1 in /Users/bblais/opt/anaconda3/lib/python3.8/site-packages (from matplotlib->pyndamics3==0.0.7) (2.8.1)\n",
      "Requirement already satisfied: cycler>=0.10 in /Users/bblais/opt/anaconda3/lib/python3.8/site-packages (from matplotlib->pyndamics3==0.0.7) (0.10.0)\n",
      "Requirement already satisfied: kiwisolver>=1.0.1 in /Users/bblais/opt/anaconda3/lib/python3.8/site-packages (from matplotlib->pyndamics3==0.0.7) (1.3.1)\n",
      "Requirement already satisfied: six in /Users/bblais/opt/anaconda3/lib/python3.8/site-packages (from cycler>=0.10->matplotlib->pyndamics3==0.0.7) (1.15.0)\n",
      "Building wheels for collected packages: pyndamics3\n",
      "  Building wheel for pyndamics3 (setup.py) ... \u001b[?25ldone\n",
      "\u001b[?25h  Created wheel for pyndamics3: filename=pyndamics3-0.0.7-py3-none-any.whl size=25166 sha256=f5d866d29b97fad48b39be6853c692e956a5ee79ef3ec888efaa839b51faa972\n",
      "  Stored in directory: /Users/bblais/tmp/pip-ephem-wheel-cache-15nbl2u2/wheels/e7/1d/35/fef14d568944af6dabf1632ae88e7904d7263df4eef773ee6e\n",
      "Successfully built pyndamics3\n",
      "Installing collected packages: pyndamics3\n",
      "  Attempting uninstall: pyndamics3\n",
      "    Found existing installation: pyndamics3 0.0.6\n",
      "    Uninstalling pyndamics3-0.0.6:\n",
      "      Successfully uninstalled pyndamics3-0.0.6\n",
      "Successfully installed pyndamics3-0.0.7\n"
     ]
    }
   ],
   "source": [
    "!pip install \"git+git://github.com/bblais/pyndamics3\" --upgrade"
   ]
  },
  {
   "cell_type": "code",
   "execution_count": 4,
   "metadata": {},
   "outputs": [
    {
     "name": "stdout",
     "output_type": "stream",
     "text": [
      "pyndamics3  version  0.0.7\n"
     ]
    }
   ],
   "source": [
    "import pyndamics3"
   ]
  },
  {
   "cell_type": "code",
   "execution_count": 6,
   "metadata": {},
   "outputs": [
    {
     "name": "stdout",
     "output_type": "stream",
     "text": [
      "Requirement already satisfied: arviz in /Users/bblais/opt/anaconda3/lib/python3.8/site-packages (0.11.2)\n",
      "Requirement already satisfied: numpy>=1.12 in /Users/bblais/opt/anaconda3/lib/python3.8/site-packages (from arviz) (1.19.2)\n",
      "Requirement already satisfied: xarray>=0.16.1 in /Users/bblais/opt/anaconda3/lib/python3.8/site-packages (from arviz) (0.17.0)\n",
      "Requirement already satisfied: setuptools>=38.4 in /Users/bblais/opt/anaconda3/lib/python3.8/site-packages (from arviz) (52.0.0.post20210125)\n",
      "Requirement already satisfied: matplotlib>=3.0 in /Users/bblais/opt/anaconda3/lib/python3.8/site-packages (from arviz) (3.3.2)\n",
      "Requirement already satisfied: packaging in /Users/bblais/opt/anaconda3/lib/python3.8/site-packages (from arviz) (20.9)\n",
      "Requirement already satisfied: netcdf4 in /Users/bblais/opt/anaconda3/lib/python3.8/site-packages (from arviz) (1.5.6)\n",
      "Requirement already satisfied: scipy>=0.19 in /Users/bblais/opt/anaconda3/lib/python3.8/site-packages (from arviz) (1.6.0)\n",
      "Requirement already satisfied: pandas>=0.23 in /Users/bblais/opt/anaconda3/lib/python3.8/site-packages (from arviz) (1.2.1)\n",
      "Requirement already satisfied: typing-extensions<4,>=3.7.4.3 in /Users/bblais/opt/anaconda3/lib/python3.8/site-packages (from arviz) (3.7.4.3)\n",
      "Requirement already satisfied: certifi>=2020.06.20 in /Users/bblais/opt/anaconda3/lib/python3.8/site-packages (from matplotlib>=3.0->arviz) (2020.12.5)\n",
      "Requirement already satisfied: cycler>=0.10 in /Users/bblais/opt/anaconda3/lib/python3.8/site-packages (from matplotlib>=3.0->arviz) (0.10.0)\n",
      "Requirement already satisfied: pillow>=6.2.0 in /Users/bblais/opt/anaconda3/lib/python3.8/site-packages (from matplotlib>=3.0->arviz) (8.1.0)\n",
      "Requirement already satisfied: python-dateutil>=2.1 in /Users/bblais/opt/anaconda3/lib/python3.8/site-packages (from matplotlib>=3.0->arviz) (2.8.1)\n",
      "Requirement already satisfied: kiwisolver>=1.0.1 in /Users/bblais/opt/anaconda3/lib/python3.8/site-packages (from matplotlib>=3.0->arviz) (1.3.1)\n",
      "Requirement already satisfied: pyparsing!=2.0.4,!=2.1.2,!=2.1.6,>=2.0.3 in /Users/bblais/opt/anaconda3/lib/python3.8/site-packages (from matplotlib>=3.0->arviz) (2.4.7)\n",
      "Requirement already satisfied: six in /Users/bblais/opt/anaconda3/lib/python3.8/site-packages (from cycler>=0.10->matplotlib>=3.0->arviz) (1.15.0)\n",
      "Requirement already satisfied: pytz>=2017.3 in /Users/bblais/opt/anaconda3/lib/python3.8/site-packages (from pandas>=0.23->arviz) (2021.1)\n",
      "Requirement already satisfied: cftime in /Users/bblais/opt/anaconda3/lib/python3.8/site-packages (from netcdf4->arviz) (1.4.1)\n"
     ]
    }
   ],
   "source": [
    "!pip install arviz"
   ]
  },
  {
   "cell_type": "code",
   "execution_count": 5,
   "metadata": {},
   "outputs": [
    {
     "name": "stdout",
     "output_type": "stream",
     "text": [
      "Requirement already satisfied: tqdm in /Users/bblais/opt/anaconda3/lib/python3.8/site-packages (4.56.0)\n"
     ]
    }
   ],
   "source": [
    "!pip install tqdm"
   ]
  },
  {
   "cell_type": "code",
   "execution_count": null,
   "metadata": {},
   "outputs": [],
   "source": []
  }
 ],
 "metadata": {
  "kernelspec": {
   "display_name": "Python 3",
   "language": "python",
   "name": "python3"
  },
  "language_info": {
   "codemirror_mode": {
    "name": "ipython",
    "version": 3
   },
   "file_extension": ".py",
   "mimetype": "text/x-python",
   "name": "python",
   "nbconvert_exporter": "python",
   "pygments_lexer": "ipython3",
   "version": "3.8.6"
  }
 },
 "nbformat": 4,
 "nbformat_minor": 4
}
