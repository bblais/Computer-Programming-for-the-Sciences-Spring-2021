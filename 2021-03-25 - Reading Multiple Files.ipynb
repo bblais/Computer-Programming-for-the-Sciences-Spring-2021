{
 "cells": [
  {
   "cell_type": "code",
   "execution_count": 1,
   "id": "aware-humidity",
   "metadata": {},
   "outputs": [
    {
     "name": "stdout",
     "output_type": "stream",
     "text": [
      "Populating the interactive namespace from numpy and matplotlib\n"
     ]
    }
   ],
   "source": [
    "%pylab inline"
   ]
  },
  {
   "cell_type": "code",
   "execution_count": 2,
   "id": "religious-numbers",
   "metadata": {},
   "outputs": [
    {
     "name": "stdout",
     "output_type": "stream",
     "text": [
      "FISH_LAND_11032021193638490.csv  \u001b[34mpeak data csv\u001b[m\u001b[m/\n",
      "\u001b[34mlogistic_sample_data\u001b[m\u001b[m/            population_data.txt\n",
      "multiple peak data csv.zip\n"
     ]
    }
   ],
   "source": [
    "ls data"
   ]
  },
  {
   "cell_type": "code",
   "execution_count": 3,
   "id": "surrounded-robinson",
   "metadata": {},
   "outputs": [],
   "source": [
    "import pandas as pd"
   ]
  },
  {
   "cell_type": "code",
   "execution_count": 4,
   "id": "passing-isaac",
   "metadata": {},
   "outputs": [
    {
     "name": "stdout",
     "output_type": "stream",
     "text": [
      "Version:  0.0.7\n"
     ]
    }
   ],
   "source": [
    "from sci378 import *"
   ]
  },
  {
   "cell_type": "code",
   "execution_count": 60,
   "id": "applied-madison",
   "metadata": {},
   "outputs": [],
   "source": [
    "def list_files(pattern):\n",
    "    from glob import glob\n",
    "    import zipfile\n",
    "    from fnmatch import fnmatch\n",
    "    if pattern.endswith('.zip'):\n",
    "        with zipfile.ZipFile(pattern) as z:\n",
    "            return [_.filename for _ in z.filelist ]\n",
    "    elif '.zip/' in pattern:\n",
    "        parts=pattern.split('.zip/')\n",
    "        pattern=parts[1]\n",
    "        if not pattern:\n",
    "            pattern='*'\n",
    "        \n",
    "        with zipfile.ZipFile(parts[0]+\".zip\") as z:\n",
    "            return [_.filename for _ in z.filelist if fnmatch(_.filename,pattern)]\n",
    "    else:\n",
    "        return glob(pattern)"
   ]
  },
  {
   "cell_type": "code",
   "execution_count": 61,
   "id": "significant-mauritius",
   "metadata": {},
   "outputs": [],
   "source": [
    "def read_zip_csv(zipfname,csvfname,**kwargs):\n",
    "    import zipfile\n",
    "    import pandas as pd\n",
    "    \n",
    "    with zipfile.ZipFile(zipfname) as z:\n",
    "        data=pd.read_csv(z.open(csvfname),**kwargs)\n",
    "        \n",
    "    return data\n",
    "    "
   ]
  },
  {
   "cell_type": "code",
   "execution_count": 69,
   "id": "quick-coupon",
   "metadata": {},
   "outputs": [
    {
     "data": {
      "text/html": [
       "<div>\n",
       "<style scoped>\n",
       "    .dataframe tbody tr th:only-of-type {\n",
       "        vertical-align: middle;\n",
       "    }\n",
       "\n",
       "    .dataframe tbody tr th {\n",
       "        vertical-align: top;\n",
       "    }\n",
       "\n",
       "    .dataframe thead th {\n",
       "        text-align: right;\n",
       "    }\n",
       "</style>\n",
       "<table border=\"1\" class=\"dataframe\">\n",
       "  <thead>\n",
       "    <tr style=\"text-align: right;\">\n",
       "      <th></th>\n",
       "      <th>t</th>\n",
       "      <th>y</th>\n",
       "    </tr>\n",
       "  </thead>\n",
       "  <tbody>\n",
       "    <tr>\n",
       "      <th>0</th>\n",
       "      <td>39.135</td>\n",
       "      <td>62644.1100</td>\n",
       "    </tr>\n",
       "    <tr>\n",
       "      <th>1</th>\n",
       "      <td>39.141</td>\n",
       "      <td>62462.6599</td>\n",
       "    </tr>\n",
       "    <tr>\n",
       "      <th>2</th>\n",
       "      <td>39.146</td>\n",
       "      <td>62446.5809</td>\n",
       "    </tr>\n",
       "    <tr>\n",
       "      <th>3</th>\n",
       "      <td>39.152</td>\n",
       "      <td>62848.2669</td>\n",
       "    </tr>\n",
       "    <tr>\n",
       "      <th>4</th>\n",
       "      <td>39.158</td>\n",
       "      <td>63662.8344</td>\n",
       "    </tr>\n",
       "    <tr>\n",
       "      <th>...</th>\n",
       "      <td>...</td>\n",
       "      <td>...</td>\n",
       "    </tr>\n",
       "    <tr>\n",
       "      <th>1285</th>\n",
       "      <td>46.329</td>\n",
       "      <td>10586.7699</td>\n",
       "    </tr>\n",
       "    <tr>\n",
       "      <th>1286</th>\n",
       "      <td>46.335</td>\n",
       "      <td>10628.2614</td>\n",
       "    </tr>\n",
       "    <tr>\n",
       "      <th>1287</th>\n",
       "      <td>46.340</td>\n",
       "      <td>10493.1683</td>\n",
       "    </tr>\n",
       "    <tr>\n",
       "      <th>1288</th>\n",
       "      <td>46.346</td>\n",
       "      <td>10284.6832</td>\n",
       "    </tr>\n",
       "    <tr>\n",
       "      <th>1289</th>\n",
       "      <td>46.351</td>\n",
       "      <td>10299.2240</td>\n",
       "    </tr>\n",
       "  </tbody>\n",
       "</table>\n",
       "<p>1290 rows × 2 columns</p>\n",
       "</div>"
      ],
      "text/plain": [
       "           t           y\n",
       "0     39.135  62644.1100\n",
       "1     39.141  62462.6599\n",
       "2     39.146  62446.5809\n",
       "3     39.152  62848.2669\n",
       "4     39.158  63662.8344\n",
       "...      ...         ...\n",
       "1285  46.329  10586.7699\n",
       "1286  46.335  10628.2614\n",
       "1287  46.340  10493.1683\n",
       "1288  46.346  10284.6832\n",
       "1289  46.351  10299.2240\n",
       "\n",
       "[1290 rows x 2 columns]"
      ]
     },
     "execution_count": 69,
     "metadata": {},
     "output_type": "execute_result"
    }
   ],
   "source": [
    "data=read_zip_csv('data/multiple peak data csv.zip','multiple peak data csv/sample44.csv')\n",
    "data"
   ]
  },
  {
   "cell_type": "code",
   "execution_count": 67,
   "id": "organizational-roller",
   "metadata": {},
   "outputs": [
    {
     "data": {
      "text/plain": [
       "['multiple peak data csv/sample44.csv',\n",
       " 'multiple peak data csv/sample41.csv',\n",
       " 'multiple peak data csv/sample40.csv',\n",
       " 'multiple peak data csv/sample42.csv',\n",
       " 'multiple peak data csv/sample43.csv',\n",
       " 'multiple peak data csv/sample18.csv',\n",
       " 'multiple peak data csv/sample24.csv',\n",
       " 'multiple peak data csv/sample30.csv',\n",
       " 'multiple peak data csv/sample4.csv',\n",
       " 'multiple peak data csv/sample5.csv',\n",
       " 'multiple peak data csv/sample31.csv',\n",
       " 'multiple peak data csv/sample25.csv',\n",
       " 'multiple peak data csv/sample19.csv',\n",
       " 'multiple peak data csv/sample33.csv',\n",
       " 'multiple peak data csv/sample27.csv',\n",
       " 'multiple peak data csv/sample7.csv',\n",
       " 'multiple peak data csv/sample6.csv',\n",
       " 'multiple peak data csv/sample26.csv',\n",
       " 'multiple peak data csv/sample32.csv',\n",
       " 'multiple peak data csv/sample36.csv',\n",
       " 'multiple peak data csv/sample22.csv',\n",
       " 'multiple peak data csv/sample2.csv',\n",
       " 'multiple peak data csv/sample3.csv',\n",
       " 'multiple peak data csv/sample23.csv',\n",
       " 'multiple peak data csv/sample37.csv',\n",
       " 'multiple peak data csv/sample21.csv',\n",
       " 'multiple peak data csv/sample35.csv',\n",
       " 'multiple peak data csv/sample1.csv',\n",
       " 'multiple peak data csv/sample0.csv',\n",
       " 'multiple peak data csv/sample34.csv',\n",
       " 'multiple peak data csv/sample20.csv',\n",
       " 'multiple peak data csv/sample39.csv',\n",
       " 'multiple peak data csv/sample11.csv',\n",
       " 'multiple peak data csv/sample10.csv',\n",
       " 'multiple peak data csv/sample38.csv',\n",
       " 'multiple peak data csv/sample12.csv',\n",
       " 'multiple peak data csv/sample13.csv',\n",
       " 'multiple peak data csv/sample17.csv',\n",
       " 'multiple peak data csv/sample16.csv',\n",
       " 'multiple peak data csv/sample14.csv',\n",
       " 'multiple peak data csv/sample28.csv',\n",
       " 'multiple peak data csv/sample8.csv',\n",
       " 'multiple peak data csv/sample9.csv',\n",
       " 'multiple peak data csv/sample29.csv',\n",
       " 'multiple peak data csv/sample15.csv']"
      ]
     },
     "execution_count": 67,
     "metadata": {},
     "output_type": "execute_result"
    }
   ],
   "source": [
    "names=list_files('data/multiple peak data csv.zip/*.csv')\n",
    "names"
   ]
  },
  {
   "cell_type": "code",
   "execution_count": 36,
   "id": "impossible-center",
   "metadata": {},
   "outputs": [],
   "source": [
    "n=names[0]"
   ]
  },
  {
   "cell_type": "code",
   "execution_count": 38,
   "id": "intense-story",
   "metadata": {},
   "outputs": [
    {
     "data": {
      "text/plain": [
       "'multiple peak data csv/'"
      ]
     },
     "execution_count": 38,
     "metadata": {},
     "output_type": "execute_result"
    }
   ],
   "source": [
    "n"
   ]
  },
  {
   "cell_type": "code",
   "execution_count": 46,
   "id": "universal-czech",
   "metadata": {},
   "outputs": [],
   "source": [
    "from fnmatch import fnmatch"
   ]
  },
  {
   "cell_type": "code",
   "execution_count": 48,
   "id": "growing-width",
   "metadata": {},
   "outputs": [
    {
     "data": {
      "text/plain": [
       "False"
      ]
     },
     "execution_count": 48,
     "metadata": {},
     "output_type": "execute_result"
    }
   ],
   "source": [
    "fnmatch(names[0],'*.csv')"
   ]
  },
  {
   "cell_type": "code",
   "execution_count": null,
   "id": "sorted-receptor",
   "metadata": {},
   "outputs": [],
   "source": []
  }
 ],
 "metadata": {
  "kernelspec": {
   "display_name": "Python 3",
   "language": "python",
   "name": "python3"
  },
  "language_info": {
   "codemirror_mode": {
    "name": "ipython",
    "version": 3
   },
   "file_extension": ".py",
   "mimetype": "text/x-python",
   "name": "python",
   "nbconvert_exporter": "python",
   "pygments_lexer": "ipython3",
   "version": "3.8.6"
  }
 },
 "nbformat": 4,
 "nbformat_minor": 5
}
