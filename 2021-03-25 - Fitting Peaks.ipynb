{
 "cells": [
  {
   "cell_type": "code",
   "execution_count": 1,
   "id": "african-phrase",
   "metadata": {},
   "outputs": [
    {
     "name": "stdout",
     "output_type": "stream",
     "text": [
      "Populating the interactive namespace from numpy and matplotlib\n"
     ]
    }
   ],
   "source": [
    "%pylab inline"
   ]
  },
  {
   "cell_type": "code",
   "execution_count": 2,
   "id": "global-diana",
   "metadata": {},
   "outputs": [],
   "source": [
    "import pandas as pd"
   ]
  },
  {
   "cell_type": "code",
   "execution_count": 3,
   "id": "moderate-denver",
   "metadata": {},
   "outputs": [],
   "source": [
    "data=pd.read_csv('data/peak data csv/sample0.csv')"
   ]
  },
  {
   "cell_type": "code",
   "execution_count": 4,
   "id": "informal-making",
   "metadata": {},
   "outputs": [
    {
     "data": {
      "text/html": [
       "<div>\n",
       "<style scoped>\n",
       "    .dataframe tbody tr th:only-of-type {\n",
       "        vertical-align: middle;\n",
       "    }\n",
       "\n",
       "    .dataframe tbody tr th {\n",
       "        vertical-align: top;\n",
       "    }\n",
       "\n",
       "    .dataframe thead th {\n",
       "        text-align: right;\n",
       "    }\n",
       "</style>\n",
       "<table border=\"1\" class=\"dataframe\">\n",
       "  <thead>\n",
       "    <tr style=\"text-align: right;\">\n",
       "      <th></th>\n",
       "      <th>t</th>\n",
       "      <th>y</th>\n",
       "    </tr>\n",
       "  </thead>\n",
       "  <tbody>\n",
       "    <tr>\n",
       "      <th>0</th>\n",
       "      <td>0.203317</td>\n",
       "      <td>4800.0</td>\n",
       "    </tr>\n",
       "    <tr>\n",
       "      <th>1</th>\n",
       "      <td>0.206650</td>\n",
       "      <td>5017.0</td>\n",
       "    </tr>\n",
       "    <tr>\n",
       "      <th>2</th>\n",
       "      <td>0.209983</td>\n",
       "      <td>5202.0</td>\n",
       "    </tr>\n",
       "    <tr>\n",
       "      <th>3</th>\n",
       "      <td>0.213317</td>\n",
       "      <td>5361.0</td>\n",
       "    </tr>\n",
       "    <tr>\n",
       "      <th>4</th>\n",
       "      <td>0.216650</td>\n",
       "      <td>5520.0</td>\n",
       "    </tr>\n",
       "  </tbody>\n",
       "</table>\n",
       "</div>"
      ],
      "text/plain": [
       "          t       y\n",
       "0  0.203317  4800.0\n",
       "1  0.206650  5017.0\n",
       "2  0.209983  5202.0\n",
       "3  0.213317  5361.0\n",
       "4  0.216650  5520.0"
      ]
     },
     "execution_count": 4,
     "metadata": {},
     "output_type": "execute_result"
    }
   ],
   "source": [
    "data.head()"
   ]
  },
  {
   "cell_type": "code",
   "execution_count": 5,
   "id": "loving-clearance",
   "metadata": {},
   "outputs": [],
   "source": [
    "t=array(data.t)\n",
    "y=array(data.y)"
   ]
  },
  {
   "cell_type": "code",
   "execution_count": 6,
   "id": "general-johnston",
   "metadata": {},
   "outputs": [
    {
     "data": {
      "text/plain": [
       "[<matplotlib.lines.Line2D at 0x7fb2d871c430>]"
      ]
     },
     "execution_count": 6,
     "metadata": {},
     "output_type": "execute_result"
    },
    {
     "data": {
      "image/png": "[encoded data removed]",
      "text/plain": [
       "<Figure size 432x288 with 1 Axes>"
      ]
     },
     "metadata": {
      "needs_background": "light"
     },
     "output_type": "display_data"
    }
   ],
   "source": [
    "plot(t,y,'o')"
   ]
  },
  {
   "cell_type": "code",
   "execution_count": 7,
   "id": "approximate-ordering",
   "metadata": {},
   "outputs": [],
   "source": [
    "from lmfit import *"
   ]
  },
  {
   "cell_type": "code",
   "execution_count": 8,
   "id": "sexual-precipitation",
   "metadata": {},
   "outputs": [],
   "source": [
    "model=models.GaussianModel()"
   ]
  },
  {
   "cell_type": "code",
   "execution_count": 9,
   "id": "falling-pollution",
   "metadata": {},
   "outputs": [
    {
     "data": {
      "text/html": [
       "<h2> Model</h2> Model(gaussian) <h2>Fit Statistics</h2><table><tr><td>fitting method</td><td>leastsq</td><td></td></tr><tr><td># function evals</td><td>53</td><td></td></tr><tr><td># data points</td><td>540</td><td></td></tr><tr><td># variables</td><td>3</td><td></td></tr><tr><td>chi-square</td><td> 1.3435e+13</td><td></td></tr><tr><td>reduced chi-square</td><td> 2.5018e+10</td><td></td></tr><tr><td>Akaike info crit.</td><td> 12932.1378</td><td></td></tr><tr><td>Bayesian info crit.</td><td> 12945.0125</td><td></td></tr></table><h2>Variables</h2><table><tr><th> name </th><th> value </th><th> standard error </th><th> relative error </th><th> initial value </th><th> min </th><th> max </th><th> vary </th><th> expression </th></tr><tr><td> amplitude </td><td>  1418780.95 </td><td>  4100.73718 </td><td> (0.29%) </td><td> 10000000.0 </td><td>        -inf </td><td>         inf </td><td> True </td><td>  </td></tr><tr><td> center </td><td>  1.12191094 </td><td>  1.2656e-04 </td><td> (0.01%) </td><td> 1 </td><td>        -inf </td><td>         inf </td><td> True </td><td>  </td></tr><tr><td> sigma </td><td>  0.03792263 </td><td>  1.2657e-04 </td><td> (0.33%) </td><td> 1 </td><td>  0.00000000 </td><td>         inf </td><td> True </td><td>  </td></tr><tr><td> fwhm </td><td>  0.08930096 </td><td>  2.9804e-04 </td><td> (0.33%) </td><td> 2.35482 </td><td>        -inf </td><td>         inf </td><td> False </td><td> 2.3548200*sigma </td></tr><tr><td> height </td><td>  14925436.0 </td><td>  43139.3453 </td><td> (0.29%) </td><td> 3989423.0000000005 </td><td>        -inf </td><td>         inf </td><td> False </td><td> 0.3989423*amplitude/max(1e-15, sigma) </td></tr></table><h2>Correlations (unreported correlations are < 0.100)</h2><table><tr><td>amplitude</td><td>sigma</td><td>0.5774</td></tr></table>"
      ],
      "text/plain": [
       "<lmfit.model.ModelResult at 0x7fb3388abee0>"
      ]
     },
     "execution_count": 9,
     "metadata": {},
     "output_type": "execute_result"
    }
   ],
   "source": [
    "results=model.fit(y,x=t,amplitude=1e7,center=1,sigma=1)\n",
    "results"
   ]
  },
  {
   "cell_type": "code",
   "execution_count": 13,
   "id": "assigned-weather",
   "metadata": {},
   "outputs": [
    {
     "data": {
      "text/plain": [
       "(0.9, 1.3)"
      ]
     },
     "execution_count": 13,
     "metadata": {},
     "output_type": "execute_result"
    },
    {
     "data": {
      "image/png": "[encoded data removed]",
      "text/plain": [
       "<Figure size 432x288 with 1 Axes>"
      ]
     },
     "metadata": {
      "needs_background": "light"
     },
     "output_type": "display_data"
    }
   ],
   "source": [
    "x_fake=linspace(0,2,2000)\n",
    "y_fake=results.eval(x=x_fake)\n",
    "plot(t,y,'o')\n",
    "plot(x_fake,y_fake,'-')\n",
    "xlim([.9,1.3])"
   ]
  },
  {
   "cell_type": "code",
   "execution_count": 14,
   "id": "careful-dividend",
   "metadata": {},
   "outputs": [
    {
     "data": {
      "text/plain": [
       "{'amplitude': 1418780.9522041704,\n",
       " 'center': 1.121910943004096,\n",
       " 'sigma': 0.037922626718622565}"
      ]
     },
     "execution_count": 14,
     "metadata": {},
     "output_type": "execute_result"
    }
   ],
   "source": [
    "results.best_values"
   ]
  },
  {
   "cell_type": "code",
   "execution_count": 17,
   "id": "arbitrary-efficiency",
   "metadata": {},
   "outputs": [
    {
     "data": {
      "text/plain": [
       "1418780.9522041704"
      ]
     },
     "execution_count": 17,
     "metadata": {},
     "output_type": "execute_result"
    }
   ],
   "source": [
    "results.params['amplitude'].value"
   ]
  },
  {
   "cell_type": "code",
   "execution_count": 18,
   "id": "attached-jimmy",
   "metadata": {},
   "outputs": [],
   "source": [
    "p=results.params['amplitude']"
   ]
  },
  {
   "cell_type": "code",
   "execution_count": 19,
   "id": "frequent-genre",
   "metadata": {},
   "outputs": [
    {
     "data": {
      "text/plain": [
       "1418780.9522041704"
      ]
     },
     "execution_count": 19,
     "metadata": {},
     "output_type": "execute_result"
    }
   ],
   "source": [
    "p.value"
   ]
  },
  {
   "cell_type": "code",
   "execution_count": 20,
   "id": "compact-notice",
   "metadata": {},
   "outputs": [
    {
     "data": {
      "text/plain": [
       "4100.737183200863"
      ]
     },
     "execution_count": 20,
     "metadata": {},
     "output_type": "execute_result"
    }
   ],
   "source": [
    "p.stderr"
   ]
  },
  {
   "cell_type": "markdown",
   "id": "alone-cabinet",
   "metadata": {},
   "source": [
    "## Outline\n",
    "\n",
    "Goal: find the amplitudes for all of the peaks in the peak data csv folder."
   ]
  },
  {
   "cell_type": "markdown",
   "id": "loved-westminster",
   "metadata": {},
   "source": [
    "- get list of the files\n",
    "- for each of the files do... (call the current file \"filename\")\n",
    "\n",
    "    - load the file (x,y)\n",
    "    - fit the data\n",
    "    - get the amplitude information\n",
    "    - store that amplitude information"
   ]
  },
  {
   "cell_type": "code",
   "execution_count": 23,
   "id": "apparent-schema",
   "metadata": {},
   "outputs": [],
   "source": [
    "def get_amplitude(filename):\n",
    "    data=pd.read_csv(filename)\n",
    "    t=array(data.t)\n",
    "    y=array(data.y)    \n",
    "    model=models.GaussianModel()\n",
    "    results=model.fit(y,x=t,amplitude=1e7,center=1,sigma=1)\n",
    "\n",
    "    p=results.params['amplitude']\n",
    "    \n",
    "    return p.value"
   ]
  },
  {
   "cell_type": "code",
   "execution_count": 24,
   "id": "limiting-wonder",
   "metadata": {},
   "outputs": [
    {
     "data": {
      "text/plain": [
       "1418780.9522041704"
      ]
     },
     "execution_count": 24,
     "metadata": {},
     "output_type": "execute_result"
    }
   ],
   "source": [
    "value=get_amplitude('data/peak data csv/sample0.csv')\n",
    "value"
   ]
  },
  {
   "cell_type": "code",
   "execution_count": 25,
   "id": "statewide-south",
   "metadata": {},
   "outputs": [
    {
     "name": "stdout",
     "output_type": "stream",
     "text": [
      "Version:  0.0.7\n"
     ]
    }
   ],
   "source": [
    "from sci378 import Storage"
   ]
  },
  {
   "cell_type": "code",
   "execution_count": null,
   "id": "literary-filing",
   "metadata": {},
   "outputs": [],
   "source": [
    "S=Storage()\n",
    "\n",
    "for filename in ['data/peak data csv/sample0.csv','data/peak data csv/sample1.csv','data/peak data csv/sample2.csv']:\n",
    "    pass\n",
    "\n"
   ]
  },
  {
   "cell_type": "code",
   "execution_count": 29,
   "id": "attempted-inspiration",
   "metadata": {},
   "outputs": [
    {
     "name": "stdout",
     "output_type": "stream",
     "text": [
      "data/peak data csv/sample0.csv 1418780.9522041704\n",
      "data/peak data csv/sample1.csv 1422016.9061841858\n",
      "data/peak data csv/sample2.csv 109600.79704749785\n"
     ]
    },
    {
     "data": {
      "text/plain": [
       "array([1418780.95220417, 1422016.90618419,  109600.7970475 ])"
      ]
     },
     "execution_count": 29,
     "metadata": {},
     "output_type": "execute_result"
    }
   ],
   "source": [
    "S=Storage()\n",
    "\n",
    "for filename in ['data/peak data csv/sample0.csv',\n",
    "                 'data/peak data csv/sample1.csv',\n",
    "                 'data/peak data csv/sample2.csv',\n",
    "                ]:\n",
    "    value=get_amplitude(filename)\n",
    "    print(filename,value)\n",
    "    \n",
    "    S+=value,\n",
    "\n",
    "amplitudes=S.arrays()\n",
    "amplitudes"
   ]
  },
  {
   "cell_type": "code",
   "execution_count": 30,
   "id": "cubic-mailman",
   "metadata": {},
   "outputs": [],
   "source": [
    "from glob import glob"
   ]
  },
  {
   "cell_type": "code",
   "execution_count": 33,
   "id": "animal-exclusion",
   "metadata": {},
   "outputs": [
    {
     "data": {
      "text/plain": [
       "['data/g149novickB.txt', 'data/g149novickA.txt', 'data/population_data.txt']"
      ]
     },
     "execution_count": 33,
     "metadata": {},
     "output_type": "execute_result"
    }
   ],
   "source": [
    "glob('data/*.txt')"
   ]
  },
  {
   "cell_type": "code",
   "execution_count": 34,
   "id": "sexual-modem",
   "metadata": {},
   "outputs": [
    {
     "data": {
      "text/plain": [
       "['data/multiple peak data csv.zip', 'data/time series.zip']"
      ]
     },
     "execution_count": 34,
     "metadata": {},
     "output_type": "execute_result"
    }
   ],
   "source": [
    "glob('data/*.zip')"
   ]
  },
  {
   "cell_type": "code",
   "execution_count": 35,
   "id": "solid-orlando",
   "metadata": {},
   "outputs": [
    {
     "data": {
      "text/plain": [
       "array([  644370.70160755,    43529.5849211 ,    44496.64201454,\n",
       "        6825359.52336162,   831298.35874001,  4684916.97865205,\n",
       "          52153.39898291,    18285.40596034,    56175.59463949,\n",
       "          56751.76011061,    47303.1151509 ,    53283.91098619,\n",
       "          51428.03678982,    23016.15695352,    48234.56873175,\n",
       "          46565.40854552,   135686.39010523,    56392.24919114,\n",
       "          42394.93853606,    35153.87846182,    55806.20817232,\n",
       "          21014.97825169,  4768057.29727724,    28366.0216831 ,\n",
       "         692628.22137372,    44541.37224358,    27678.29126169,\n",
       "         640939.60416725,   382895.4182428 ,    47730.37300212,\n",
       "          49236.58943912,  7383032.58877112,    20805.57540673,\n",
       "          20978.66397838,    45200.50174364,   944242.56080017,\n",
       "          44569.48090693,    48565.80955055,    46559.49802618,\n",
       "          54191.95804192,    45327.33322606,    47515.83022357,\n",
       "         338097.7601385 ,  1176094.06277907,  2920118.33277214,\n",
       "          50192.10801475,    48731.44657518,    46697.26403301,\n",
       "          20072.57688158,    69312.9404192 ,   260684.00356698,\n",
       "          46643.49001273,   465247.78434463,    48290.33914347,\n",
       "          49331.00302978, -8384562.38121994,  7294207.8522557 ,\n",
       "        3536271.45711551,    45984.63030236,   319123.95081507,\n",
       "         317461.86554658,    44748.18418221,    44566.85874048,\n",
       "          21315.96800925,    50291.71247753,    49970.82388041,\n",
       "          46102.31818804,  4382381.53082858,   582245.14424751,\n",
       "          56297.33422594,    19195.69800321,    47617.70319441,\n",
       "          47669.80931616,    36910.44860392,    47776.37402479,\n",
       "          44160.65104961,   158046.34799547,    49099.67032186,\n",
       "         380819.71128696,    17963.93545914,    47379.18482943,\n",
       "          55730.5707647 ,    68832.69588697,  1977646.55755033,\n",
       "          51306.73595885,  4511508.91436086,   754568.3834168 ,\n",
       "        2052131.69143493,    50698.6047413 ,    20598.00273909,\n",
       "          48220.48363453,  1893973.89062006,  1808861.34667793,\n",
       "         667097.79070067,   425587.19542665,    51764.19610384,\n",
       "          45504.36322133,   400050.10364667,    53003.31199407,\n",
       "          55886.26167238,    18100.08513804,    42119.93473966,\n",
       "          47687.90465055,    49289.5117776 ,   314777.02205317,\n",
       "          47147.28096756,    47853.50268729, -8450996.82813415,\n",
       "         100390.38824994,   610972.568437  ,    20084.05301958,\n",
       "          46865.87329269,    48120.82103701,    57124.62826565,\n",
       "        4599305.3886481 ,    58844.26199529,    50826.39516904,\n",
       "          19364.19871154,    49021.925476  ,   186818.15071314,\n",
       "          52783.99538157,    42445.38801063,    50846.91999164,\n",
       "          56618.30784058,    48833.46369532,  4859472.60099219,\n",
       "          36888.79172561,    33732.73449268,  1842525.14173142,\n",
       "          45175.05517013,    41575.72343016,    50669.22857781,\n",
       "          51089.42003802,    42123.1980389 ,    54087.18786744,\n",
       "         524286.73914604,   519434.98529822,   507145.39984647,\n",
       "        2933133.03467914,    46963.08672441,  4826395.75018335,\n",
       "          34246.95042568,    50103.78887509,    20048.14531084,\n",
       "         421974.7654215 ,   526838.3983574 ,    20957.94579317,\n",
       "        8298688.9896667 ,  1556080.74977123,   885362.23123551,\n",
       "        3707277.33059651,    21177.50157147,  3539023.89053565,\n",
       "          20015.3336329 ,    42585.97456437,    74821.41298004,\n",
       "          48765.36000819,  3458500.48655379,    48202.09775133,\n",
       "         527441.00971614,   487801.55763438,  2616450.00500032,\n",
       "          70222.52882302,    21204.52238025,   490119.12752353,\n",
       "          72108.79817573,   518921.7322918 ,    47225.37431388,\n",
       "        2052165.59836098,    49988.73026902,    31488.13227911,\n",
       "         109600.7970475 ,  2579538.91592739,   293862.55814857,\n",
       "         614573.11671755,    48929.91853788,    28228.94613725,\n",
       "         605474.10553928,    45725.53243799,   559287.31119094,\n",
       "         226880.62569521,  3394905.46085705,  3027764.05816702,\n",
       "          46430.43728703,    49130.16143258,    47409.34304209,\n",
       "        4282472.85467629,   411490.81702242,    46700.54102824,\n",
       "         803668.83845276,    45369.91268399,    48182.29855379,\n",
       "        1422016.90618419,    50965.14417372,    45014.13178359,\n",
       "          53671.73697234,    23123.4342996 ,    52452.4902821 ,\n",
       "        3223206.54313282,   741270.49879548,    19240.7358675 ,\n",
       "          19578.13279817,    54174.24376026,   312136.82273429,\n",
       "          48285.63095717,  1418780.95220417,    19694.50904233,\n",
       "          18657.34502706,    73995.83528887,   431413.56447227,\n",
       "          20210.21515052,  7776516.74230362,    46479.43398045,\n",
       "          46544.75662337,    51176.59276061,    56947.17620454,\n",
       "          24131.88433103,    44404.9522742 ,    52271.14571877,\n",
       "          26522.8014707 ,   535206.61046299,   460614.99551384,\n",
       "          37913.07017186,   638243.88802063,    30968.11492438,\n",
       "          45073.68187285,   261326.93249505,    19870.35514505,\n",
       "          55181.91023476,    40713.45265221,    47238.45263189,\n",
       "        6382873.45949157,    51685.14945263,  8807323.19109457,\n",
       "          46770.71846679,  5633822.57860399,    44918.41233488,\n",
       "          19002.14044111,    57033.685649  ,    52491.98959427,\n",
       "          45414.53501902,   525512.95926735,   658536.08219214,\n",
       "          45522.3712121 ,    46923.15153215,  5279757.88423448,\n",
       "         243418.5503775 ,    52580.95039082,    56823.12270209,\n",
       "          46973.50126587,    32630.90950749,    25911.20047573,\n",
       "        8243276.01306101,    43989.87656701,    46655.49322787,\n",
       "          22242.85987052,    18675.59114443,  8908869.68458588,\n",
       "          55628.45703998,    94637.17257181,    19061.88398145,\n",
       "          21418.04854777,  1228819.86346588,    30163.76228317,\n",
       "          51513.46411104,    78932.04924361,    48747.66397343,\n",
       "          53921.13231313,   246556.19800461,    21748.91970748,\n",
       "        9743692.78447362,    45254.57716524,    33628.93807326,\n",
       "         957413.9003814 ,   450813.15024523,    23537.16309542,\n",
       "         293939.37542781,    54363.54886184,   534244.83509044,\n",
       "          71819.6013244 ,    19461.62887494,    56937.26654603,\n",
       "          43662.37802502,    47452.6014694 ,    52552.36703876,\n",
       "          44752.20084866,    47978.83650383,    46796.21736884,\n",
       "          51945.40057498,    20073.16233197,  1230101.46541211,\n",
       "          46377.55403605,    31536.82570684,    48174.87503401,\n",
       "          48073.21116428,    46641.22506424,  2130640.40024579,\n",
       "          19277.42458225,    63386.77859829,    64474.14732465,\n",
       "          30753.39238553,  8731923.41060694,    45542.3262279 ,\n",
       "         289391.30795711,    46932.17232119,    52182.49213429,\n",
       "         734242.94961456,    44729.0325191 ,    17959.04832293,\n",
       "         247667.37893462,    49168.31942879,    31792.53111557,\n",
       "         514599.01021903,    54808.2991903 ,    19752.38576921,\n",
       "        1067429.06277364,  1734280.50570413,    54563.92977649,\n",
       "          46765.10446678,   101960.59434603,    70118.40926771,\n",
       "          96446.54614054,    48975.16926781,    54945.19389647,\n",
       "          23302.39838669,    20640.14106724,    47612.23895969,\n",
       "          48117.38819837,    25442.12352531,    43788.08732286,\n",
       "        1475191.69842056,   491363.65862311,   565099.56506196,\n",
       "        1757383.6444012 ,    48160.7164252 ,    53358.25225129,\n",
       "          20625.95826611,    49286.1851584 ,    45579.79883108,\n",
       "          17843.30039705,    47313.88828746,    45425.12021054,\n",
       "          55547.77391932,    55864.09946278,    47383.17493234,\n",
       "          32417.65388869,    21258.0636325 ,  2030408.65923536,\n",
       "          43465.28539706,    50175.09882823,    19941.29498834,\n",
       "          52741.44316045,    46910.08584796,    20096.82502217,\n",
       "          55271.80770233,    19119.98851084,    46475.3051703 ,\n",
       "          53142.54110684,   461197.81526569,  2264568.07283335,\n",
       "        4630382.51411375,    20411.15510817,   356952.77562719,\n",
       "         292020.47812383,  6749306.22003665,  1821877.47953637,\n",
       "        1760245.23734194,   778604.39176181,    19236.77840369,\n",
       "        2192015.92905351,    46824.91369107,    58547.93827392,\n",
       "          55148.2229354 ,    78817.27133509,    46943.22858145,\n",
       "          21495.63428223,   605683.29483234,   766197.97273641,\n",
       "          36513.30485876,  1012585.09470478,   246769.84589466,\n",
       "          53684.14768908,    54064.00632109,    45745.95288613,\n",
       "          44888.19521429,    56562.19667426,    27326.15086745,\n",
       "          19168.18578267,   757544.62697306,  7379800.47071854,\n",
       "        1350778.7275448 ,  7637113.61743547,  5227918.1537749 ,\n",
       "         625452.8784594 ,   385409.98655945,   458992.71199761,\n",
       "          20285.36719287,    50048.27249636,    23354.95304801,\n",
       "          44088.52565087,   621926.91096339,    48983.22440791,\n",
       "          54872.8775057 ,    59533.63326318,   102585.28092123,\n",
       "          46857.0087266 ,    47368.30012084,  1383765.72622906,\n",
       "        1241495.82981368,    53460.05747131,    20295.77492365,\n",
       "         108829.93652213,    51847.29588987,    46972.03151824,\n",
       "          49038.89744742,    52611.79186223,   748544.28911629,\n",
       "        2213874.47009473,  1346549.22328471,   646155.93635653,\n",
       "       -7941507.23483413,   560535.13791757,   583056.3486171 ])"
      ]
     },
     "execution_count": 35,
     "metadata": {},
     "output_type": "execute_result"
    }
   ],
   "source": [
    "S=Storage()\n",
    "\n",
    "for filename in glob('data/peak data csv/*.csv'):\n",
    "    value=get_amplitude(filename)\n",
    "    #print(filename,value)\n",
    "    \n",
    "    S+=value,\n",
    "\n",
    "amplitudes=S.arrays()\n",
    "amplitudes"
   ]
  },
  {
   "cell_type": "markdown",
   "id": "coordinated-effects",
   "metadata": {},
   "source": [
    "## Michael Crichton"
   ]
  },
  {
   "cell_type": "markdown",
   "id": "needed-limit",
   "metadata": {},
   "source": [
    "- need temperature vs time data for all of the station (csv files in one folder)\n",
    "- need rural/urban info for each station\n",
    "- location (latitude, logitude) for each station\n",
    "\n",
    "\n",
    "- for each file do ....\n",
    "    - load data\n",
    "    - fit to a line\n",
    "    - get the slope of the line\n",
    "    - store those values\n",
    "\n",
    "\n",
    "- average of all the slopes?  (X)\n",
    "- count all positives/negatives for rural, urban -- fraction of positive for rural vs urban\n",
    "- average urban average rural, look statistical test on the average\n",
    "\n",
    "- go through all the urban stations\n",
    "    - find the closest rural station\n",
    "    - I already have the slopes - rural slope value, and an urban slope value\n",
    "    \n",
    "- plot the difference (histogram)\n",
    "- plot rural slope (y-axis) vs urban slope (x-axis)\n"
   ]
  },
  {
   "cell_type": "code",
   "execution_count": null,
   "id": "rapid-interval",
   "metadata": {},
   "outputs": [],
   "source": []
  }
 ],
 "metadata": {
  "kernelspec": {
   "display_name": "Python 3",
   "language": "python",
   "name": "python3"
  },
  "language_info": {
   "codemirror_mode": {
    "name": "ipython",
    "version": 3
   },
   "file_extension": ".py",
   "mimetype": "text/x-python",
   "name": "python",
   "nbconvert_exporter": "python",
   "pygments_lexer": "ipython3",
   "version": "3.8.6"
  }
 },
 "nbformat": 4,
 "nbformat_minor": 5
}
